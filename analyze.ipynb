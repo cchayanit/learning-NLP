{
 "metadata": {
  "language_info": {
   "codemirror_mode": {
    "name": "ipython",
    "version": 3
   },
   "file_extension": ".py",
   "mimetype": "text/x-python",
   "name": "python",
   "nbconvert_exporter": "python",
   "pygments_lexer": "ipython3",
   "version": "3.8.3-final"
  },
  "orig_nbformat": 2,
  "kernelspec": {
   "name": "python3",
   "display_name": "Python 3",
   "language": "python"
  }
 },
 "nbformat": 4,
 "nbformat_minor": 2,
 "cells": [
  {
   "source": [
    "https://www.bualabs.com/archives/3000/sentiment-classification-imdb-movie-reviews-with-naive-bayes-logistic-regression-nlp-ep-5/"
   ],
   "cell_type": "markdown",
   "metadata": {}
  },
  {
   "cell_type": "code",
   "execution_count": 1,
   "metadata": {},
   "outputs": [],
   "source": [
    "%reload_ext autoreload\n",
    "%autoreload 2\n",
    "%matplotlib inline"
   ]
  },
  {
   "source": [],
   "cell_type": "markdown",
   "metadata": {}
  },
  {
   "source": [
    "https://www.analyticsvidhya.com/blog/2018/11/tutorial-text-classification-ulmfit-fastai-library/"
   ],
   "cell_type": "markdown",
   "metadata": {}
  },
  {
   "cell_type": "code",
   "execution_count": 2,
   "metadata": {},
   "outputs": [],
   "source": [
    "# import libraries\n",
    "import fastai\n",
    "from fastai import *\n",
    "from fastai.text import * \n",
    "import pandas as pd\n",
    "import numpy as np\n",
    "from functools import partial\n",
    "import io\n",
    "import os"
   ]
  },
  {
   "cell_type": "code",
   "execution_count": 3,
   "metadata": {},
   "outputs": [
    {
     "output_type": "stream",
     "name": "stdout",
     "text": [
      "Looking in links: https://download.pytorch.org/whl/nightly/cu92/torch_nightly.html\n",
      "ERROR: Could not find a version that satisfies the requirement torch_nightly\n",
      "ERROR: No matching distribution found for torch_nightly\n",
      "Requirement already satisfied: fastai in c:\\users\\user\\anaconda3\\lib\\site-packages (1.0.61)\n",
      "Requirement already satisfied: beautifulsoup4 in c:\\users\\user\\anaconda3\\lib\\site-packages (from fastai) (4.9.3)\n",
      "Requirement already satisfied: numpy>=1.15 in c:\\users\\user\\anaconda3\\lib\\site-packages (from fastai) (1.19.5)\n",
      "Requirement already satisfied: pandas in c:\\users\\user\\anaconda3\\lib\\site-packages (from fastai) (1.2.1)\n",
      "Requirement already satisfied: fastprogress>=0.2.1 in c:\\users\\user\\anaconda3\\lib\\site-packages (from fastai) (1.0.0)\n",
      "Requirement already satisfied: packaging in c:\\users\\user\\anaconda3\\lib\\site-packages (from fastai) (20.8)\n",
      "Requirement already satisfied: scipy in c:\\users\\user\\anaconda3\\lib\\site-packages (from fastai) (1.5.2)\n",
      "Requirement already satisfied: numexpr in c:\\users\\user\\anaconda3\\lib\\site-packages (from fastai) (2.7.2)\n",
      "Requirement already satisfied: torch>=1.0.0 in c:\\users\\user\\anaconda3\\lib\\site-packages (from fastai) (1.7.1)\n",
      "Requirement already satisfied: pyyaml in c:\\users\\user\\anaconda3\\lib\\site-packages (from fastai) (5.4.1)\n",
      "Requirement already satisfied: torchvision in c:\\users\\user\\anaconda3\\lib\\site-packages (from fastai) (0.2.2.post3)\n",
      "Requirement already satisfied: matplotlib in c:\\users\\user\\anaconda3\\lib\\site-packages (from fastai) (3.3.2)\n",
      "Requirement already satisfied: Pillow in c:\\users\\user\\anaconda3\\lib\\site-packages (from fastai) (8.1.0)\n",
      "Requirement already satisfied: nvidia-ml-py3 in c:\\users\\user\\anaconda3\\lib\\site-packages (from fastai) (7.352.0)\n",
      "Requirement already satisfied: requests in c:\\users\\user\\anaconda3\\lib\\site-packages (from fastai) (2.25.1)\n",
      "Requirement already satisfied: bottleneck in c:\\users\\user\\anaconda3\\lib\\site-packages (from fastai) (1.3.2)\n",
      "Requirement already satisfied: typing-extensions in c:\\users\\user\\anaconda3\\lib\\site-packages (from torch>=1.0.0->fastai) (3.7.4.3)\n",
      "Requirement already satisfied: soupsieve>1.2 in c:\\users\\user\\anaconda3\\lib\\site-packages (from beautifulsoup4->fastai) (2.1)\n",
      "Requirement already satisfied: pyparsing!=2.0.4,!=2.1.2,!=2.1.6,>=2.0.3 in c:\\users\\user\\anaconda3\\lib\\site-packages (from matplotlib->fastai) (2.4.7)\n",
      "Requirement already satisfied: cycler>=0.10 in c:\\users\\user\\anaconda3\\lib\\site-packages (from matplotlib->fastai) (0.10.0)\n",
      "Requirement already satisfied: python-dateutil>=2.1 in c:\\users\\user\\anaconda3\\lib\\site-packages (from matplotlib->fastai) (2.8.1)\n",
      "Requirement already satisfied: kiwisolver>=1.0.1 in c:\\users\\user\\anaconda3\\lib\\site-packages (from matplotlib->fastai) (1.3.0)\n",
      "Requirement already satisfied: certifi>=2020.06.20 in c:\\users\\user\\anaconda3\\lib\\site-packages (from matplotlib->fastai) (2020.12.5)\n",
      "Requirement already satisfied: six in c:\\users\\user\\anaconda3\\lib\\site-packages (from cycler>=0.10->matplotlib->fastai) (1.15.0)\n",
      "Requirement already satisfied: pytz>=2017.3 in c:\\users\\user\\anaconda3\\lib\\site-packages (from pandas->fastai) (2020.5)\n",
      "Requirement already satisfied: idna<3,>=2.5 in c:\\users\\user\\anaconda3\\lib\\site-packages (from requests->fastai) (2.10)\n",
      "Requirement already satisfied: urllib3<1.27,>=1.21.1 in c:\\users\\user\\anaconda3\\lib\\site-packages (from requests->fastai) (1.26.2)\n",
      "Requirement already satisfied: chardet<5,>=3.0.2 in c:\\users\\user\\anaconda3\\lib\\site-packages (from requests->fastai) (4.0.0)\n"
     ]
    }
   ],
   "source": [
    "!pip install torch_nightly -f https://download.pytorch.org/whl/nightly/cu92/torch_nightly.html\n",
    "!pip install fastai"
   ]
  },
  {
   "cell_type": "code",
   "execution_count": 4,
   "metadata": {},
   "outputs": [
    {
     "output_type": "execute_result",
     "data": {
      "text/plain": [
       "WindowsPath('C:/Users/user/.fastai/data/imdb_sample')"
      ]
     },
     "metadata": {},
     "execution_count": 4
    }
   ],
   "source": [
    "path = untar_data(URLs.IMDB_SAMPLE)\n",
    "path"
   ]
  },
  {
   "cell_type": "code",
   "execution_count": 5,
   "metadata": {},
   "outputs": [
    {
     "output_type": "execute_result",
     "data": {
      "text/plain": [
       "[WindowsPath('C:/Users/user/.fastai/data/imdb_sample/texts.csv')]"
      ]
     },
     "metadata": {},
     "execution_count": 5
    }
   ],
   "source": [
    "path.ls()  #ดูว่ามีไฟล์อะไรบ้าง"
   ]
  },
  {
   "cell_type": "code",
   "execution_count": 6,
   "metadata": {},
   "outputs": [
    {
     "output_type": "execute_result",
     "data": {
      "text/plain": [
       "(1000, 3)"
      ]
     },
     "metadata": {},
     "execution_count": 6
    }
   ],
   "source": [
    "df = pd.read_csv(path/'texts.csv')  #โหลดไฟล์ csv ขึ้นมา ใส่ Pandas Dataframe\n",
    "df.shape"
   ]
  },
  {
   "source": [
    "#มีข้อมูลตัวอย่าง 1000 Record, 3 Column ดูตัวอย่างข้อมูล 5 Record แรก\n",
    "df.head()"
   ],
   "cell_type": "markdown",
   "metadata": {}
  },
  {
   "cell_type": "code",
   "execution_count": 9,
   "metadata": {},
   "outputs": [
    {
     "output_type": "execute_result",
     "data": {
      "text/plain": [
       "      label                                               text  is_valid\n",
       "0  negative  Un-bleeping-believable! Meg Ryan doesn't even ...     False\n",
       "1  positive  This is a extremely well-made film. The acting...     False\n",
       "2  negative  Every once in a long while a movie will come a...     False\n",
       "3  positive  Name just says it all. I watched this movie wi...     False\n",
       "4  negative  This movie succeeds at being one of the most u...     False"
      ],
      "text/html": "<div>\n<style scoped>\n    .dataframe tbody tr th:only-of-type {\n        vertical-align: middle;\n    }\n\n    .dataframe tbody tr th {\n        vertical-align: top;\n    }\n\n    .dataframe thead th {\n        text-align: right;\n    }\n</style>\n<table border=\"1\" class=\"dataframe\">\n  <thead>\n    <tr style=\"text-align: right;\">\n      <th></th>\n      <th>label</th>\n      <th>text</th>\n      <th>is_valid</th>\n    </tr>\n  </thead>\n  <tbody>\n    <tr>\n      <th>0</th>\n      <td>negative</td>\n      <td>Un-bleeping-believable! Meg Ryan doesn't even ...</td>\n      <td>False</td>\n    </tr>\n    <tr>\n      <th>1</th>\n      <td>positive</td>\n      <td>This is a extremely well-made film. The acting...</td>\n      <td>False</td>\n    </tr>\n    <tr>\n      <th>2</th>\n      <td>negative</td>\n      <td>Every once in a long while a movie will come a...</td>\n      <td>False</td>\n    </tr>\n    <tr>\n      <th>3</th>\n      <td>positive</td>\n      <td>Name just says it all. I watched this movie wi...</td>\n      <td>False</td>\n    </tr>\n    <tr>\n      <th>4</th>\n      <td>negative</td>\n      <td>This movie succeeds at being one of the most u...</td>\n      <td>False</td>\n    </tr>\n  </tbody>\n</table>\n</div>"
     },
     "metadata": {},
     "execution_count": 9
    }
   ],
   "source": [
    "df.head()"
   ]
  },
  {
   "source": [
    "Preprocessing"
   ],
   "cell_type": "markdown",
   "metadata": {}
  },
  {
   "cell_type": "code",
   "execution_count": 7,
   "metadata": {},
   "outputs": [
    {
     "output_type": "display_data",
     "data": {
      "text/plain": "<IPython.core.display.HTML object>",
      "text/html": "\n    <div>\n        <style>\n            /* Turns off some styling */\n            progress {\n                /* gets rid of default border in Firefox and Opera. */\n                border: none;\n                /* Needs to be in here for Safari polyfill so background images work as expected. */\n                background-size: auto;\n            }\n            .progress-bar-interrupted, .progress-bar-interrupted::-webkit-progress-bar {\n                background: #F44336;\n            }\n        </style>\n      <progress value='0' class='' max='1' style='width:300px; height:20px; vertical-align: middle;'></progress>\n      \n    </div>\n    "
     },
     "metadata": {}
    },
    {
     "output_type": "display_data",
     "data": {
      "text/plain": "<IPython.core.display.HTML object>",
      "text/html": ""
     },
     "metadata": {}
    }
   ],
   "source": [
    "movie_reviews = (TextList.from_csv(path, 'texts.csv', cols='text').split_from_df(col=2).label_from_df(cols=0))\n",
    " #เราจะใช้ Fastai TextList ในการ Preprocess ข้อมูล เช่น Tokenization, Numberization, etc.\n",
    " #จะได้ Trainint Set, Validation Set ออกมา เรามาดูข้อมูลตัวอย่าง Record แรกใน Validation Set"
   ]
  },
  {
   "source": [
    "https://medium.com/ai-in-plain-english/fast-natural-language-processing-101-cf1afefdc449"
   ],
   "cell_type": "markdown",
   "metadata": {}
  },
  {
   "cell_type": "code",
   "execution_count": 11,
   "metadata": {},
   "outputs": [
    {
     "output_type": "execute_result",
     "data": {
      "text/plain": [
       "(Category 1, Text [ 2  5 21 71 ... 15  5  0 52])"
      ]
     },
     "metadata": {},
     "execution_count": 11
    }
   ],
   "source": [
    "movie_reviews.valid.y[0], movie_reviews.valid.x[0]\n"
   ]
  },
  {
   "cell_type": "code",
   "execution_count": 12,
   "metadata": {},
   "outputs": [
    {
     "output_type": "execute_result",
     "data": {
      "text/plain": [
       "(800, 200)"
      ]
     },
     "metadata": {},
     "execution_count": 12
    }
   ],
   "source": [
    "len(movie_reviews.train.x), len(movie_reviews.valid.x)"
   ]
  },
  {
   "cell_type": "code",
   "execution_count": 13,
   "metadata": {},
   "outputs": [
    {
     "output_type": "execute_result",
     "data": {
      "text/plain": [
       "(6008, 19159)"
      ]
     },
     "metadata": {},
     "execution_count": 13
    }
   ],
   "source": [
    "len(movie_reviews.vocab.itos), len(movie_reviews.vocab.stoi)"
   ]
  },
  {
   "cell_type": "code",
   "execution_count": 14,
   "metadata": {},
   "outputs": [
    {
     "output_type": "execute_result",
     "data": {
      "text/plain": [
       "142"
      ]
     },
     "metadata": {},
     "execution_count": 14
    }
   ],
   "source": [
    "movie_reviews.vocab.stoi['love']"
   ]
  },
  {
   "cell_type": "code",
   "execution_count": 15,
   "metadata": {},
   "outputs": [
    {
     "output_type": "execute_result",
     "data": {
      "text/plain": [
       "'love'"
      ]
     },
     "metadata": {},
     "execution_count": 15
    }
   ],
   "source": [
    "movie_reviews.vocab.itos[142]"
   ]
  },
  {
   "cell_type": "code",
   "execution_count": 16,
   "metadata": {},
   "outputs": [
    {
     "output_type": "execute_result",
     "data": {
      "text/plain": [
       "['life', 'characters', 'love', 'your', 'here', 'know', 'scenes', 'best', 'end']"
      ]
     },
     "metadata": {},
     "execution_count": 16
    }
   ],
   "source": [
    "movie_reviews.vocab.itos[140:149]"
   ]
  },
  {
   "cell_type": "code",
   "execution_count": 17,
   "metadata": {},
   "outputs": [
    {
     "output_type": "execute_result",
     "data": {
      "text/plain": [
       "['uncritical',\n",
       " 'whack',\n",
       " 'heavies',\n",
       " 'poe',\n",
       " 'monstervision',\n",
       " 'penn',\n",
       " 'shrine',\n",
       " 'lupino',\n",
       " 'pegg',\n",
       " 'grasshoppers',\n",
       " 'flik',\n",
       " 'ladder',\n",
       " 'wtc',\n",
       " 'portuguese',\n",
       " 'della',\n",
       " 'contractor',\n",
       " 'coaxes',\n",
       " 'mabuse',\n",
       " 'greyson',\n",
       " 'sollett']"
      ]
     },
     "metadata": {},
     "execution_count": 17
    }
   ],
   "source": [
    "movie_reviews.vocab.itos[-20:]"
   ]
  },
  {
   "cell_type": "code",
   "execution_count": 18,
   "metadata": {},
   "outputs": [
    {
     "output_type": "execute_result",
     "data": {
      "text/plain": [
       "[('xxunk', 0),\n",
       " ('xxpad', 1),\n",
       " ('xxbos', 2),\n",
       " ('xxeos', 3),\n",
       " ('xxfld', 4),\n",
       " ('xxmaj', 5),\n",
       " ('xxup', 6),\n",
       " ('xxrep', 7),\n",
       " ('xxwrep', 8),\n",
       " ('the', 9),\n",
       " ('.', 10),\n",
       " (',', 11),\n",
       " ('and', 12),\n",
       " ('a', 13),\n",
       " ('of', 14),\n",
       " ('to', 15),\n",
       " ('is', 16),\n",
       " ('it', 17),\n",
       " ('in', 18),\n",
       " ('i', 19)]"
      ]
     },
     "metadata": {},
     "execution_count": 18
    }
   ],
   "source": [
    "from itertools import *\n",
    "list(islice(movie_reviews.vocab.stoi.items(), 20))"
   ]
  },
  {
   "source": [
    "คำที่อยู่นอก vocab Dictionary จะถูก Map เป็น Unknown (xxunk)"
   ],
   "cell_type": "markdown",
   "metadata": {}
  },
  {
   "cell_type": "code",
   "execution_count": 19,
   "metadata": {},
   "outputs": [
    {
     "output_type": "execute_result",
     "data": {
      "text/plain": [
       "('xxunk', 0)"
      ]
     },
     "metadata": {},
     "execution_count": 19
    }
   ],
   "source": [
    "i = movie_reviews.vocab.stoi['eiei']\n",
    "movie_reviews.vocab.itos[i], i"
   ]
  },
  {
   "cell_type": "code",
   "execution_count": 20,
   "metadata": {},
   "outputs": [],
   "source": [
    "t = movie_reviews.train[0][0]"
   ]
  },
  {
   "cell_type": "code",
   "execution_count": 21,
   "metadata": {},
   "outputs": [
    {
     "output_type": "execute_result",
     "data": {
      "text/plain": [
       "Text [   2    5 4619   25 ...   10    5    0   52]"
      ]
     },
     "metadata": {},
     "execution_count": 21
    }
   ],
   "source": [
    "t"
   ]
  },
  {
   "cell_type": "code",
   "execution_count": 22,
   "metadata": {},
   "outputs": [
    {
     "output_type": "execute_result",
     "data": {
      "text/plain": [
       "        label                                               text  is_valid\n",
       "0    negative  Un-bleeping-believable! Meg Ryan doesn't even ...     False\n",
       "1    positive  This is a extremely well-made film. The acting...     False\n",
       "2    negative  Every once in a long while a movie will come a...     False\n",
       "3    positive  Name just says it all. I watched this movie wi...     False\n",
       "4    negative  This movie succeeds at being one of the most u...     False\n",
       "..        ...                                                ...       ...\n",
       "995  negative  There are many different versions of this one ...      True\n",
       "996  positive  Once upon a time Hollywood produced live-actio...      True\n",
       "997  negative  Wenders was great with Million $ Hotel.I don't...      True\n",
       "998  negative  Although a film with Bruce Willis is always wo...      True\n",
       "999  positive  A compelling, honest, daring, and unforgettabl...      True\n",
       "\n",
       "[1000 rows x 3 columns]"
      ],
      "text/html": "<div>\n<style scoped>\n    .dataframe tbody tr th:only-of-type {\n        vertical-align: middle;\n    }\n\n    .dataframe tbody tr th {\n        vertical-align: top;\n    }\n\n    .dataframe thead th {\n        text-align: right;\n    }\n</style>\n<table border=\"1\" class=\"dataframe\">\n  <thead>\n    <tr style=\"text-align: right;\">\n      <th></th>\n      <th>label</th>\n      <th>text</th>\n      <th>is_valid</th>\n    </tr>\n  </thead>\n  <tbody>\n    <tr>\n      <th>0</th>\n      <td>negative</td>\n      <td>Un-bleeping-believable! Meg Ryan doesn't even ...</td>\n      <td>False</td>\n    </tr>\n    <tr>\n      <th>1</th>\n      <td>positive</td>\n      <td>This is a extremely well-made film. The acting...</td>\n      <td>False</td>\n    </tr>\n    <tr>\n      <th>2</th>\n      <td>negative</td>\n      <td>Every once in a long while a movie will come a...</td>\n      <td>False</td>\n    </tr>\n    <tr>\n      <th>3</th>\n      <td>positive</td>\n      <td>Name just says it all. I watched this movie wi...</td>\n      <td>False</td>\n    </tr>\n    <tr>\n      <th>4</th>\n      <td>negative</td>\n      <td>This movie succeeds at being one of the most u...</td>\n      <td>False</td>\n    </tr>\n    <tr>\n      <th>...</th>\n      <td>...</td>\n      <td>...</td>\n      <td>...</td>\n    </tr>\n    <tr>\n      <th>995</th>\n      <td>negative</td>\n      <td>There are many different versions of this one ...</td>\n      <td>True</td>\n    </tr>\n    <tr>\n      <th>996</th>\n      <td>positive</td>\n      <td>Once upon a time Hollywood produced live-actio...</td>\n      <td>True</td>\n    </tr>\n    <tr>\n      <th>997</th>\n      <td>negative</td>\n      <td>Wenders was great with Million $ Hotel.I don't...</td>\n      <td>True</td>\n    </tr>\n    <tr>\n      <th>998</th>\n      <td>negative</td>\n      <td>Although a film with Bruce Willis is always wo...</td>\n      <td>True</td>\n    </tr>\n    <tr>\n      <th>999</th>\n      <td>positive</td>\n      <td>A compelling, honest, daring, and unforgettabl...</td>\n      <td>True</td>\n    </tr>\n  </tbody>\n</table>\n<p>1000 rows × 3 columns</p>\n</div>"
     },
     "metadata": {},
     "execution_count": 22
    }
   ],
   "source": [
    "df"
   ]
  },
  {
   "cell_type": "code",
   "execution_count": 23,
   "metadata": {},
   "outputs": [
    {
     "output_type": "execute_result",
     "data": {
      "text/plain": [
       "array([   2,    5, 4619,   25,    0,   25,  867,   52,    5, 3776,    5, 1800,   95,   37,   85,  192,   64,  935,\n",
       "          0, 2738,  517,   18,   21,   11,   84, 2417,  193,   88, 3777,   64], dtype=int64)"
      ]
     },
     "metadata": {},
     "execution_count": 23
    }
   ],
   "source": [
    "t.data[:30]"
   ]
  },
  {
   "source": [
    "Creating Term-Document Matrix"
   ],
   "cell_type": "markdown",
   "metadata": {}
  },
  {
   "source": [
    "1)Counter"
   ],
   "cell_type": "markdown",
   "metadata": {}
  },
  {
   "cell_type": "code",
   "execution_count": 24,
   "metadata": {},
   "outputs": [],
   "source": [
    "c = Counter([1, 2, 3, 4, 5, \n",
    "             1, 2, 3, 4, \n",
    "             1, 2, 3, \n",
    "             1, 2, \n",
    "             1])"
   ]
  },
  {
   "cell_type": "code",
   "execution_count": 25,
   "metadata": {},
   "outputs": [
    {
     "output_type": "execute_result",
     "data": {
      "text/plain": [
       "Counter({1: 5, 2: 4, 3: 3, 4: 2, 5: 1})"
      ]
     },
     "metadata": {},
     "execution_count": 25
    }
   ],
   "source": [
    "c"
   ]
  },
  {
   "source": [
    "นับครั้งdata ที่ปรากฎบน dict"
   ],
   "cell_type": "markdown",
   "metadata": {}
  },
  {
   "cell_type": "code",
   "execution_count": 26,
   "metadata": {},
   "outputs": [
    {
     "output_type": "execute_result",
     "data": {
      "text/plain": [
       "(dict_keys([1, 2, 3, 4, 5]), dict_values([5, 4, 3, 2, 1]))"
      ]
     },
     "metadata": {},
     "execution_count": 26
    }
   ],
   "source": [
    "c.keys(), c.values()"
   ]
  },
  {
   "source": [
    "2) Term-Document Matrix as Sparse Matrix"
   ],
   "cell_type": "markdown",
   "metadata": {}
  },
  {
   "cell_type": "code",
   "execution_count": 27,
   "metadata": {},
   "outputs": [
    {
     "output_type": "execute_result",
     "data": {
      "text/plain": [
       "(95,\n",
       " Counter({2: 1,\n",
       "          5: 32,\n",
       "          21: 3,\n",
       "          71: 1,\n",
       "          190: 1,\n",
       "          748: 1,\n",
       "          288: 1,\n",
       "          285: 1,\n",
       "          63: 2,\n",
       "          221: 1,\n",
       "          666: 2,\n",
       "          59: 1,\n",
       "          13: 4,\n",
       "          2705: 1,\n",
       "          14: 6,\n",
       "          2875: 1,\n",
       "          11: 10,\n",
       "          18: 2,\n",
       "          358: 1,\n",
       "          0: 32,\n",
       "          77: 1,\n",
       "          15: 6,\n",
       "          478: 1,\n",
       "          1833: 1,\n",
       "          50: 3,\n",
       "          9: 10,\n",
       "          319: 1,\n",
       "          6: 1,\n",
       "          2743: 1,\n",
       "          12: 1,\n",
       "          115: 1,\n",
       "          4126: 1,\n",
       "          197: 2,\n",
       "          1331: 1,\n",
       "          25: 2,\n",
       "          324: 1,\n",
       "          10: 7,\n",
       "          3963: 1,\n",
       "          16: 4,\n",
       "          74: 1,\n",
       "          24: 3,\n",
       "          2817: 1,\n",
       "          5821: 1,\n",
       "          2595: 1,\n",
       "          710: 1,\n",
       "          3429: 1,\n",
       "          84: 1,\n",
       "          149: 1,\n",
       "          20: 1,\n",
       "          26: 1,\n",
       "          605: 1,\n",
       "          378: 1,\n",
       "          1058: 1,\n",
       "          251: 1,\n",
       "          258: 1,\n",
       "          1346: 1,\n",
       "          194: 1,\n",
       "          239: 1,\n",
       "          49: 1,\n",
       "          2764: 1,\n",
       "          1335: 1,\n",
       "          409: 1,\n",
       "          27: 3,\n",
       "          45: 1,\n",
       "          594: 1,\n",
       "          850: 1,\n",
       "          109: 1,\n",
       "          2601: 1,\n",
       "          430: 1,\n",
       "          1902: 1,\n",
       "          541: 1,\n",
       "          54: 2,\n",
       "          1107: 1,\n",
       "          608: 1,\n",
       "          404: 1,\n",
       "          736: 1,\n",
       "          44: 1,\n",
       "          204: 1,\n",
       "          23: 1,\n",
       "          3480: 1,\n",
       "          4736: 1,\n",
       "          456: 1,\n",
       "          4051: 1,\n",
       "          2420: 1,\n",
       "          30: 1,\n",
       "          337: 1,\n",
       "          966: 1,\n",
       "          58: 1,\n",
       "          207: 1,\n",
       "          2110: 1,\n",
       "          571: 1,\n",
       "          5035: 1,\n",
       "          579: 1,\n",
       "          1843: 1,\n",
       "          52: 1}))"
      ]
     },
     "metadata": {},
     "execution_count": 27
    }
   ],
   "source": [
    "c = Counter(movie_reviews.valid.x[0].data)\n",
    "len(c), c"
   ]
  },
  {
   "cell_type": "code",
   "execution_count": 28,
   "metadata": {},
   "outputs": [
    {
     "output_type": "execute_result",
     "data": {
      "text/plain": [
       "['xxunk', 'xxbos', 'xxmaj', 'xxup', 'the']"
      ]
     },
     "metadata": {},
     "execution_count": 28
    }
   ],
   "source": [
    "idx = [0, 2, 5, 6, 9]\n",
    "[movie_reviews.vocab.itos[i] for i in idx]"
   ]
  },
  {
   "cell_type": "code",
   "execution_count": 29,
   "metadata": {},
   "outputs": [
    {
     "output_type": "execute_result",
     "data": {
      "text/plain": [
       "(Category 1, Text [  2  19 248  21 ...   9   0  10   0])"
      ]
     },
     "metadata": {},
     "execution_count": 29
    }
   ],
   "source": [
    "movie_reviews.valid.y[1], movie_reviews.valid.x[1]"
   ]
  },
  {
   "source": [
    "ประกาศฟังก์ชัน สร้าง Term-Document Matrix โดย output เป็น Sparse Matrix แบบ Compressed sparse row (CSR, CRS หรือ Yale format)"
   ],
   "cell_type": "markdown",
   "metadata": {}
  },
  {
   "cell_type": "code",
   "execution_count": 30,
   "metadata": {},
   "outputs": [],
   "source": [
    "def get_term_doc_matrix(label_list, vocab_len):\n",
    "    j_indices = []\n",
    "    indptr = []\n",
    "    values = []\n",
    "    indptr.append(0)\n",
    "\n",
    "    for i, doc in enumerate(label_list):\n",
    "        feature_counter = Counter(doc.data)\n",
    "        j_indices.extend(feature_counter.keys())\n",
    "        values.extend(feature_counter.values())\n",
    "        indptr.append(len(j_indices))\n",
    "\n",
    "    # return (values, j_indices, indptr)\n",
    "\n",
    "    return scipy.sparse.csr_matrix((values, j_indices, indptr), \n",
    "                                   shape=(len(indptr)-1, vocab_len), \n",
    "                                   dtype=int)"
   ]
  },
  {
   "source": [
    "จับเวลาการสร้าง Term-Document Matrix ด้วยข้อมูล Validation Set"
   ],
   "cell_type": "markdown",
   "metadata": {}
  },
  {
   "cell_type": "code",
   "execution_count": 31,
   "metadata": {},
   "outputs": [
    {
     "output_type": "stream",
     "name": "stdout",
     "text": [
      "Wall time: 54.8 ms\n"
     ]
    }
   ],
   "source": [
    "%%time\n",
    "val_term_doc = get_term_doc_matrix(movie_reviews.valid.x, len(movie_reviews.vocab.itos))"
   ]
  },
  {
   "source": [
    "จับเวลาการสร้าง Term-Document Matrix ด้วยข้อมูล Training Set"
   ],
   "cell_type": "markdown",
   "metadata": {}
  },
  {
   "cell_type": "code",
   "execution_count": 32,
   "metadata": {},
   "outputs": [
    {
     "output_type": "stream",
     "name": "stdout",
     "text": [
      "Wall time: 230 ms\n"
     ]
    }
   ],
   "source": [
    "%%time\n",
    "trn_term_doc = get_term_doc_matrix(movie_reviews.train.x, len(movie_reviews.vocab.itos))"
   ]
  },
  {
   "cell_type": "code",
   "execution_count": 33,
   "metadata": {},
   "outputs": [
    {
     "output_type": "execute_result",
     "data": {
      "text/plain": [
       "(800, 6008)"
      ]
     },
     "metadata": {},
     "execution_count": 33
    }
   ],
   "source": [
    "\n",
    "trn_term_doc.shape"
   ]
  },
  {
   "cell_type": "code",
   "execution_count": 34,
   "metadata": {},
   "outputs": [
    {
     "output_type": "execute_result",
     "data": {
      "text/plain": [
       "(200, 6008)"
      ]
     },
     "metadata": {},
     "execution_count": 34
    }
   ],
   "source": [
    "val_term_doc.shape"
   ]
  },
  {
   "source": [
    "3)Sparse Matrix vs Dense Matrix"
   ],
   "cell_type": "markdown",
   "metadata": {}
  },
  {
   "cell_type": "code",
   "execution_count": 35,
   "metadata": {},
   "outputs": [
    {
     "output_type": "execute_result",
     "data": {
      "text/plain": [
       "<800x10 sparse matrix of type '<class 'numpy.intc'>'\n",
       "\twith 10 stored elements in Compressed Sparse Row format>"
      ]
     },
     "metadata": {},
     "execution_count": 35
    }
   ],
   "source": [
    "trn_term_doc[:, -10:]"
   ]
  },
  {
   "cell_type": "code",
   "execution_count": 36,
   "metadata": {},
   "outputs": [
    {
     "output_type": "execute_result",
     "data": {
      "text/plain": [
       "matrix([[ 8,  0,  1,  0,  0, 15,  0,  0],\n",
       "        [22,  0,  1,  0,  0, 33,  2,  0],\n",
       "        [ 4,  0,  1,  0,  0, 16,  2,  0],\n",
       "        [13,  0,  1,  0,  0, 11,  0,  0],\n",
       "        [12,  0,  1,  0,  0, 21,  0,  0],\n",
       "        [ 4,  0,  1,  0,  0, 12,  1,  0],\n",
       "        [ 4,  0,  1,  0,  0, 15,  0,  0],\n",
       "        [42,  0,  1,  0,  0, 43, 14,  0]])"
      ]
     },
     "metadata": {},
     "execution_count": 36
    }
   ],
   "source": [
    "trn_term_doc.todense()[:8, :8]"
   ]
  },
  {
   "cell_type": "code",
   "execution_count": 37,
   "metadata": {},
   "outputs": [
    {
     "output_type": "display_data",
     "data": {
      "text/plain": "<Figure size 864x144 with 1 Axes>",
      "image/svg+xml": "<?xml version=\"1.0\" encoding=\"utf-8\" standalone=\"no\"?>\r\n<!DOCTYPE svg PUBLIC \"-//W3C//DTD SVG 1.1//EN\"\r\n  \"http://www.w3.org/Graphics/SVG/1.1/DTD/svg11.dtd\">\r\n<!-- Created with matplotlib (https://matplotlib.org/) -->\r\n<svg height=\"141.915714pt\" version=\"1.1\" viewBox=\"0 0 856.569273 141.915714\" width=\"856.569273pt\" xmlns=\"http://www.w3.org/2000/svg\" xmlns:xlink=\"http://www.w3.org/1999/xlink\">\r\n <metadata>\r\n  <rdf:RDF xmlns:cc=\"http://creativecommons.org/ns#\" xmlns:dc=\"http://purl.org/dc/elements/1.1/\" xmlns:rdf=\"http://www.w3.org/1999/02/22-rdf-syntax-ns#\">\r\n   <cc:Work>\r\n    <dc:type rdf:resource=\"http://purl.org/dc/dcmitype/StillImage\"/>\r\n    <dc:date>2021-02-12T23:05:16.073562</dc:date>\r\n    <dc:format>image/svg+xml</dc:format>\r\n    <dc:creator>\r\n     <cc:Agent>\r\n      <dc:title>Matplotlib v3.3.2, https://matplotlib.org/</dc:title>\r\n     </cc:Agent>\r\n    </dc:creator>\r\n   </cc:Work>\r\n  </rdf:RDF>\r\n </metadata>\r\n <defs>\r\n  <style type=\"text/css\">*{stroke-linecap:butt;stroke-linejoin:round;}</style>\r\n </defs>\r\n <g id=\"figure_1\">\r\n  <g id=\"patch_1\">\r\n   <path d=\"M 0 141.915714 \r\nL 856.569273 141.915714 \r\nL 856.569273 0 \r\nL 0 0 \r\nz\r\n\" style=\"fill:none;\"/>\r\n  </g>\r\n  <g id=\"axes_1\">\r\n   <g id=\"patch_2\">\r\n    <path d=\"M 33.2875 118.037589 \r\nL 837.648385 118.037589 \r\nL 837.648385 10.932278 \r\nL 33.2875 10.932278 \r\nz\r\n\" style=\"fill:#ffffff;\"/>\r\n   </g>\r\n   <g clip-path=\"url(#p8e0828b74a)\">\r\n    <image height=\"108\" id=\"image302a88eaf7\" transform=\"scale(1 -1)translate(0 -108)\" width=\"805\" x=\"33.2875\" xlink:href=\"data:image/png;base64,\r\niVBORw0KGgoAAAANSUhEUgAAAyUAAABsCAYAAAB0Kx2mAAAf5ElEQVR4nO2dy4/kNn7Hv6Sqqnu659X2eL3rYLFIkGxOySkIkrtPuQQI/KcHueSSx8LZXXs875nuqi4pB5ZUlIqSSImUSOn7AQxPV6kkvsUffy/xvfihyL79FY5//gkoCtQQQn0mhPq7KACZAfkRgyjvlyp95Q9Vv9TbjRBCCJmaMfsVQsjkSAA4/unPEJvt6ZOsLoSU/y+Fk7YJXv6mC5PQkxJ9gkEowcH1vjK7/Cx0W6fWl4QQQpYNBZLw8N1PPCIBILu7Q3HYnz8tN8FCnAdc32m9/htb1nz6r7frmN+bMC3Eodt6yP2nXsyWtHiGGDchryOEELI81ryPI96RAFDs95C3t5DX1/UNrZDqP6B/4JUCjG7u1bVhaftuiZscU510LdQQlrAQ+KzDEE1dSEKPY1/jpq2ctve3WRcIIYQQQnqQACC++xaQEsjOZj9iu1MCSimk9G0uShOv8t/l/102PW3aGB8bm6nMl7oEENd7EXts2njKdk1FaAw9NlNpBzIvMax5MZQhNtgmhJAJUWqQokD+8SPyT58qjUdx2Kt/l/4J+ubCtFDZCh8mf4e2a/s+b8OHYOD6rLGaD52+trYtE6mT+gZZN6eci9BtGKJ+c7cZ6SeGuRlDGWIj9jbh3CZkUSihZLdF9uI5IDOI3e787WlBEtvTZ0IoEy+TBsTGp6QvEoaPBUZm4fwbphR2prp/l5Co09c+A/quGle+mPIF5fIsX+XStZFLJYTmZultBtjPY0KWxBrmNiErQplvvf8EAMieP0Wx3wNFoTaMMoPcbZXWRGaAkChKgaRLCGm8IMXVlfpHXyQMfYFpe8n2+anUfGI8b1KHLoBDfGuG3g9oL6fpd3190tQEeaQWXMHLDSd6QdmEhtbhizMcbFvF2ChDY9bKFE6rUyijLyigEkISZQMA+c+vURxziJ0KCyy2u8p8K394qG32iwfNx8R0clsUAPLaxq04PHaXwrTJa3vJ2jjWDjGlCrm5aZpj6X8Pea6t/4Sxbzq+H/osl+uWQKjQ0MxHQ+ZizLhLYcymUEZfMAwuISRRlPnWdgtIoXxKigLF40F9axMCuO07/XvTIqmfXPl6YejPnetkbKgWwzdz5VQhw+kKDEHaYZsRQgghySMBIP/4EeLkRCu2OzfznzZ6fRBk92/HqqDn2nQvebMf4+YvxjKNYcnjJxRsM0IICcvS3rUkSlTyxF99g/z+HoBm56/nHdHpG5imaF0mAaNLxVwU/lTQrhNpKRNvbHJGEzFu/iYok3eH/DWxlPlECCFrJsb3P1kcKnniR+XoXjm4lzTzjTTNsnRho9x8mISJoQKGjw2N60Sa0lk6JD5DFK8c7w75vkjBoZXjjxBCCCEWVMkTxdUV5O3t6dNTaGAhVOSsxgY6u7s7O783NCM1oUb/XdcGyjWr9BJOX6fOZh7bb+e4r497xzT2ptYmmg4hCHEh5rk9BymW2Sdrrz8hpIb4XvxQqNweOcRupyJlhYzeMUWEIUYxIkuBY5kQAnAtIIQsHgkAm998q3KQPDwogcR3Xg2dMYuq7bPnjsBFwrG2PuUmhBACcC0Yy9reHYRMjYc5pnxKnt9C7rbnjO3AKVmi9oC2JHqlQ3z5n36tq3DjO5yudr2elb6GySRlrElTTItfSAHT931s7rn2F/PQtp76d2Q8KfgMzYHPKJBkPaz93TEHnH/rwsMcU0LJ//yIfH8AhKyicCE/1jUObQ8rnd91J/img7xt4QMuGpWzcleSRh/O4aaEknNim2tmzOIRor4xtaHOUIHbF0PbZerfkfGkmARvik1ILElxCSHdcP4RR5Sj+9NbiO0GKHL1aVcm8JLePCQtmpUQDD1RtK2D7XUpMmU/LQEbwZVt6UbK82fNmPotprHPcUUIIUlRhQQu9vvLF4rMzhv+5gZ9bGSsNvOtIS+SoSeKtlnPfWZHj+1FGdMmgqyT1MZgbHN4LmLvt9jLRwghpIbSlPzuL5B9daf8Lk5CSOVbUmpPABUieLO99DfRvq/lNDHRJtSYki5OgclvZszt9JDIJg1OX/244ZmGJWu/SFimiB4YO2MOn2Ih5rIRQsgYQq9vge6vNCVSIn//EcXjoXpYccxVmODN9rzRLgoUx+OFv4nY7uqCiM1Lu1mhUtsxpKJjnMv1snrYbNQS7ekC3RDmfmku2dHWp/bLhdgCIcyFjU/OWtupyxfPJ1P4kcWsrYi5bMQPa11DSDzMNQZDr2+B7i8B4A//8hWyX71SYYH/+e+qL8Vup4QQKQAhVSLFk/BQCSJCXma81jYVNc1BWZG2JGwmJ3Fd6KlKndXv0fI7Z3wPnrbQxF0bU5vgAlMxhaOtL8HHNZqbqU8M11yM3yHl0IktEEJA2tpO3t7a+eQMaaeUNyHNtTA0c47DlPuJzI9reoC54Dgnc4/BWLCcC+fkiUBdWzGHGVXIZ8oszWg2SyIGQYsQEjdcJwiJA85F/7BNO5EAIG9v1B/Pnqn/rq7Ut80T/S7/izY/ExMm8wwfmo4uTAIJTzGmxXUiptY/ruVNrX6ETAFf2MuBa1zacC76Z41t6rAOSADY/+PvIXdbiEwi//Dh8iYN4UTe3ta+k9fXyn+iNM3qcx4XspIWs7u72jW6/8pgfKh2+8yKhjh6LsE51IbUEvV1PVcfB759bNa4OJG0SX1tWgMx9dGS1riY2pWQORi6B3JYByQAXP37/6I45ji+fYfs5QsUxiSIsvo7//Sp9l2VcBGwS7qoXXN886Z2zYV/yhB8aF36TL3a/EW6yrIE51AbfCTqm1LF2fUcfRzYjglCpmTKzRLHuDtTb2bZR2Fgu5K1M4ELhAoJfPMEIlPai+O79ygOj5fOpvmxe3E9XVdzSu+axEt5kabkLBpL5Ccbadtnu8ZQZ0JCwc1S3ITsH65thJyJfT7EXr4IUCGB37wFsgwoCojdDiLLzjlLpPZvi8W1V9Oh5yNx6aCxSRmH3NsmQpPrPccyNkLPlBuYtjbQpO0qH05IQvsrNVnywrPkupHpSGEcpVBGCqSEnIlpPpjWj5jKFylKU3J9jWKvcpQUDw8oHg8qFHChcpUUh/2l2sZCa2JEv49LB40xfRqak6L5uc/y2r7wmlqFMYN66hCrFs+rmf7Z4GOjMHZhcDHZi5Ep8lPERAqby6VgG4Y7hXGUQhkJIXHC9WMQEgCQZUoIKSmKs+P60IZteznFnJAvRpOyucMYz61ZaX4Ww0RPPaN3DG0Ygr7cPyQ8NvlniDupCdZrT4A6hCFBccj8sK+8IgHg8LtvIJ9cnyNfyUyFBZaZirRVJisUQplzlSGDgapDqs8MQkften2TPXThGjMIhmp4iD1D+2eIlst3GWKA43AYpnazGQcpjxUdHvjM97zQpLYmdCVAjaVvYimHidT6e82spa8mmi8SADb/8V/ASVMib2+B/Ih8fwCKHPmXeyA/QmSZisCVH1E8PFx0RPHwcIqYlF9ETioeHi4rpfuolCGCbRlrwhTzy7uLMT4uQ37jU7iYmhjKQOZ/8duMg6WMlbm1qjGxlD5dIqH6xnWtiW2MNKNPEhITE80X5eh+/wBstygOexXuFziH7T0JGcVhr/4NLZeIXlA94paNj4YezUsPIzwFLv4xMTHGx2XIb2JbtIk9sYxpjiECcByQ8CxpjMVcl1jeLaSfBPtKZXR/9TXyT5/PiQzb7PhP/zdF2BI7TVCxtY20zfVx8TBLZ8pYmaqMKbSFD8Yma4wxaeNYYn6pETIVa1kDCZkKm3dLKvMulXIOJcF9gASAxx//qEy2Pn+GfPrU7Q6nTq2ZdLkmDHRtOFdnSpdoSY6DtKY1Ml4wcVi41CLc+MC1ns08OnO101r6h5C54BwjZHpimXepR8pcIUpTcnsDcXWF4uEB+YcPKl9J32YbmDbr9hjacqJ4EBiKw97eeX7pUnkqpDBmY2GtY3ZN9U6grvL2du4iEJIWCczr4PBdnxwqT8mvv4EQAvL6GuLqCmK7Q/F4OEfN0k26hFCfmwQSk9mWTWJCk8nYKdJX72+77qHjM7KT7X18hLN1dcrnJCQ22L6w1jqe1lTvBOpa+ToSEgMpbPgTmNeENJEAkD9/AnF9hfz+XiVPPCrH88okq+G8XjPVMpkL6QJLm6agaeJlcuJ2iSYzJqeKjmGxGWSiVZZpbOxxUxuksCCmxtra1PcLK7X2S628ZB2kGhnSlqXMu6Vs+JfSH2QxSADIfn6P/Ms95PW1+vQUcUteX5sziutaCRcNhI0pk42GJGRIQUMZTY79Nfp8XMr20q8b8/Kx1cwshTFtFZtGYIqQzHMw10u6L+gFEyqSlFh6WGfOuzMxrO/sDxIZGwA4/vgnFMcjiiI/5Q9R2dzz+/v61eXGus1HwwWTVqX8vGhZmENPIB8hd23uC4R5+cy5MWwKcz7LMqatYlt0GZLZL8wgTghJEa5PhFygHN2f3kJkGcRmWwkk6tvTCXWbhqLPj6ML0z19nBw0fVnGlm8N+BIw2/4mhJDYWdOav0bYv4REj3J0v71B8XiofEkqE6pTssRWE60xfhxNnxQ9w/sYfG2QfW6sXYU3H5nbXaAQQUgacGMVDq6Dw0hlTLJ/SYqkMr88sQGA/M3butlUlwmVb8qFwrc5U0wL0Ng8LDHVhRAyH1wLSGxwTBISjpXNLxV96/NnZF9/VYX6LUMBy9tbyOtr5fCuaTSqUMFNSo2Aa8Z1F81AVzQrS4lSbHf9ztNTSqeuWpQ1Sc6hotEsuQ2XaLLocxzEXE9C1gLn4fSwzYkDVvkKPbMBgOzVK+Rv36E47FWOkr1KCJh/+lRzfAcA5EcUD5aO6CaHZ5NDtItmoCtbvKVE2RtNy+FerfQ5e7eFTR5arlQSWboSKhpNzG01pi/H/DbmNvE5DmKuZ0iWukYQO2Lrf19lia1eMdMWYIiQJkLY7ZU9IwHgz//615AvX0Bsd5DPn6ovrq6q00mx2VZ+JpWWRGbnU/umQ3xJ16DXTz5ttSeuzushToy177K7u/Zr+iZ8iLC+Y31RbBJdpkrIMeO7fca8LPiimY7U5oVpbISqQ8i28blGromlrg1jDnDGkup4mmIspNo2S8emX2YUWsX34odCXl8jLxMiCgEI2X0yqRc4VOG77uvyzCFlbbtOZlW7iKsrlUQyVrSyLoKlneykVJ+UykoIIYSQJFEhgX/zLeTNzfnTMl9JdVVHMsM+EyXrkhiSNLbdyyVPikkg6bNPb6uTtsm3FkimONUzXRebQOI77LBvpj7VSWmTbyvIT42NhnVKXH3pCFkyqY351MpLyAJRju4//4Li8bEelveU1R1C1De4TV+I0ozLRJdg0TTF6ttEj41IpV8/5Ya9r5xdC2EzbPLQZ9iw9rDDsZcvdqZqv+bhxFzlMMFEjoScSW3Mp1ZeQhaIylNy80Q5t+dHFWkLUCZcpuztF8JBfnmNjZAipPl+sTOH/8AUbZRaP5B1wnG6Lnh6TQghYYhwfVWSQV5APn0Ksd0hv7+H2O3qmhKdhoZDbLaXd+064XdxpvbVYD4bPpS5muvvybywr9YN+38a5tDAEeJCqLD1hIzBZk2L8JBPCSVSAIcDiseDCgO2P4UB6zKPOGlHqpBhtqYUzWSJZcOZ/D18NVgoR/yu5/Rpjpr195XRfiwpv5ynLPucfbXkPkqlbjHMVVdiatuYygKk2Z/EnpDjLTb/TUKAZNe0DQAcf3p9NsPSozb1ObL3RbUaEho3lQnuUi+bNkyl3jGT6CR0JuV6Dg2VTcYTU9vGVBayfDjeCEkCFX3rycmPxBQBy9VXpO/z0CdkKcbdj4kUnOZjJ7aoUGNJueyEEEIISQLl6L7bAUUBsd1AZI1oWi5J/mz8RVw2vUM2Q6FORJhsyJ61n0qFjgrF8MVkbpayVhFCCIkGCaAKB1w8PCi/EgNiu+s3SXLRmFw8wOBUP+VmKIaX7NSbvxjqTBQufbE0IYHj0IoqMuKcNH0Alw6dmAkhZDKU+dbtKXGivjmQWS0HSeXQ7nT3ngW9qUGJNcdAaGxM5FzvY4OLFmxJNHPkxMDSkkO6sJYN7kjy+/u5i7C+vprD1y/muUrcYF8S4oRKnvjqDpvfflcJBmK3O19xcn7PXr4AZKY0JoDdRrq5oPdlbW/DdH/bEyxTckeXcLxThO5ty1DvS8hooerL5vOWvvHQI8itBZcknpaZycXV1fDy2IzttnDkPpl702D7/LnLSaZjTetSSGKYM+xLYkuMKTBmQGlK3rxH/vMv1Qa8TKSIIldXFTmOb98B+fEyBHBz0961uSlzn5iwyWyuY3uCVUYV6/ttWzjf5rU2EcWGYNooB17QLrRfXED9kMqi0ObrZZmZvHh4GP7sIUlDQ867ubB9/tzlJPGSynozNZwzJCViToExISpPyXaj/thtAZlB3txoV5yEjpPPx4WmJD9WjVD5nbSduHeZaJk+b9OGjLW/7/u95abMCF8Q/hjQlhfanzmIfVEYqxHjGCckHmJfbwghxBJlvvXTaxT7g8rmvt0g/3KyXS6Kk3ZDnoQNeXaEN5gcdSZS7MLW/Kt60MhFuE0r4oNQL4jYN4IhyjegLQf5PqWEj+SDPucPcSf2uUwIIYTMgNKUHI/nbO4PD3VhoCjOfzeFBD15oisuYYJDOn/7EqBCE/tGcM2O2lPC5IPpwz4iJDx8ZxCSHEpT8vd/A3lzg+zVK7Pzqm5G1RREunwsbP1EbASHoRGqbAUeLmBx02beN3W/xTZOYiuPCymXPTRTRuFLnaWG7V1bP/qGwn84ODbnZ6F9sAGA7D//gOPnz8CnT3bCBmB2zNZt1ZtCRJtvh20o4FAO4K6RmMY+O5Sj/BqZI1xnbH0XW3lcSLnsoRnTNmtr1znWgSlYWz+SdODYnJ+F9oFKnvjli/rj9ta8SbeOdOXoxB6yUWOVIrvqbHviF2vd5mRNbcLQgaSEfbhO2O+EkAUiAUC8eI7sxXMU+5MTu8zqZlzlAmizadaFmuYGvCvUbtt1rrkKbCILeXAWDhLlaazwpxPbSyt0eeY4NUjdvyilkxYfeXyWyJA+ZLulgWuYfEJIHAxJfTHkfgtkAwDHn16f83kIARR5PQdBuQCWm+ahJkhDTKRccxUMyX8w4B5OUZ7mMNmK7aUVW3l8sMQ6xYqprdn+w2C7pQH7iSyBNZqsu1gNtaG324raTwJA9rd/pbK4lyZVTWf2hoaklvG9i7bTzTZNiKt02aPBGZRxOoQk26Ux0jHVw6cz94qk7Yop6hxbuy7V8XfJdCWhJYTEBeenPSvaUHtlpe2mom9d7yCfXEPutpDX1xDbHbKXLyDLTX2Zib3M+G7K5NzcPLf5jDTNumzMrJrZ45sLgsnsqQxv3EdTSLKNJNaM2uUygNquNdVDS05Z4brpLK8fkkgydaaY2LEtHrpGMwWGRtZbEm3h1gkh8cH5OZ61rvUGxHbH9jihhJInG4inT1Ecc2C7BQAc371Hfn9v9gMpN/KaoIL8qJIs1v529Ae50CjI+t/l85sqLdOmpks70RRChph8+chv4to+Ja7RZrqut9Xi9OFjQvmelHNP8rmfb0hwGhWmubq2l71N/8Tch6nCNiWucMz4ZW1rfRPtcLk47NkeJ8T34gfVEqX9msyUZgToDverCwTN62xyg7AD0sNHv7Hv2QaEEEIIIQ0koEIBV6ZapblQUwvRPM1s00jYJEVMJYu6T5ZQBx8baW7G2QapwkSrhBBCbOG7whkllLx8UX1Qcw5v+oW0aUfK3zbD5LqGrm1zXLfdxDX9Q+akWQ5uRJcFncnXxwojoRBCCBkI3xXOSAA4/vxa+ZMIgWJ/CnV7Cg1sPB3UhRPtc6swuV2b9WboYZvfN5nKjt7VP2YK1hYDe85yLzWLNCGEEELIDKiQwN/9uv6pKT5yUZg1ITb+I6b72mISYvrMwkwO8G33G0qMJmhDE0amKs3bmArqpCp8DWFNdSX+iEnbTAghZFUoTcmPfwSkgNhsz4JGKUC4akKatEXWsX3xjUmaFlPCtbk3/nM/PzQ+kmYuiTXVlfjDNhohIYQQ4hkJQJls5QWKw/6sDdG1DrYChMspW4yahtSIMQwvIYQQQgghjihH95sbyOdPlU/J4wHy2bO6qVYzeWGbk2/IU7ZQ93XNIu96TUi6zNRc72HD3PUlfllCfy6hDqnCtieELBgmNZyeDQDknz4Bnz9XG9T840fzZrVMiLgkJ9+2TXlK5kBTlSOW+oZibflDllDXJdQhVdj2hJAFM8hlgYxCaUqur9Vfeu6RLm2I0xNmDJ26ZAnXtW4paH7mxiX0NCGuzDFulj5Wl16/0LD9CCERIQEA2239U10bYsojYqLtOxutSqiF0SUyWAhC3t9VOExJ8xM7bCcyhDnGzdLH6hLqN6dgsIT2I4QsBgkA+YcPyF69On8q5KUtnZ7YUGZ1p/ZmkkWTdqQrG7Lus9K3QPtcwG2c+F2c/E3393HvqWiWx2f5qDFbHmzXftbeRmuvfxflmkjBgJCwcB1Khg0AZC9f4Pj6l1rywgIwh/MtDJqPpjbEpB2xyYZso1XxvYD33W9M+OHUaNbBVKehfheufkg+/TuW0DcxwnbtZ+1ttPb6d7Ek30xCYobrUDJIAPjyT79H9s3XyO7uIG9vIa6uILYbQAjI21t15UkzIrY7pUUpT3nKa2LyWRDi8mQ+1El9l3ah1Cq1EWKiDO2HUKGcS1zbv+85fZHg1k7MJ0O+yxZzXcm6iOk9uGbYxoQkifhe/FDIZ89UxC2hXEzkk2sVkUuf2M1Noszs/UV086wiv7yf6V5tJ+W2z+3D5j5lGfRrTeVaW9SmFJirTzgWCCGEEEKcUdG3vnoJeXOjNt5FjmJ/UN+WeUeKAuLqSn1W+pK0beibJxT6Bi0/mnOZlKGG9d8XRT1Xin6tD1xMxfRrY8oSnwIhooTZMFf+lbkEIUIIWStcAwnAcbAAlKP7L29RPD42vqk7tBcPD+rzvgSJJi2CDQafkyhiRMcyyMeWY8p6dGnY+rAJPuAbmzLGMg5MLE0ojrmtCSHxsbQ1kLihp7MgSSMBQGQSxeGxiqJVHPZn7YAuhDT9JXSWupHwOcinyLze9owpJ+vYZ8W4sMRYpqWSYlsvdf0j4+C4IFOwxnE25vCTRIsEgOPbdwCgnNt1Sv+P6u+GKVbbdzaf97HESdbWFq51ndp5nvQzJnQ0SR/OO2KC44JMwRrH2RrrvAIkAGz+8ncQWYZiv4d89uxSFVZGs7KNeKRF5mplKTkwbOmqr6vJUlNYnJsx0byWwppCRxNCCCGEeGYDAI///QcAgNhskX/4UL+ijCak5ycpHdPbNli66VcbvvKD6M+LGZ/1jW1jS+d/QgghhBAygpNPiQrVWxz2l9oQV7OsoSfkaztZN5FKG/SVM5V66KRYZkIIIYSQhaBCAj9/CrE7hd+ttBwnEyHXzdrQE/IxJ+upbigNYZC93rcL3eTNdx+nqCXxFfUr1FhMdYwTEiOcT4QQEh1KU/LsKbJXX1eZ2rO7O4jN9vLqMkeJ6e/m58anZRffGXORmJ7Z55Nhcw/T5y74fpEZwiB3YuM7Y5u8ry/3ii0phSruw4cwFUogmyNUMiE6Sxp/azwEixW2JyHkhAq39XjE4//9qdqoHt+9r/uNtIVes/m3jiErujEXib6xNoUjdsVXZLC5NQAuCR+nYonhf2Ml9rYKkc0+xD3JMNbcD6Z3EvED25MQckICQPHlC+TtzemT7NKRXc9VokXWqrK869gID6ZFSNdmmE6FuXCRWInxpG+OMvk4QGi7py0x9kUssG3cYVI2f3D8xUVIU2P2NRmIylPy5h2K/UljYYqcVQ6yoqh9X2V513FZvJsaGBtty5KYa+JywfBLqLE6RbLNEKz12bHDtnFnSW0297q/pLZcAiFNjdnXZCASAD792z+cPxGi8i1RV2hRuLokYJsM76G0H74ifvlatG3v0xT8XO891CfGR7vP/YJbA6nZva9ZyI6hDOSSuf0GY4IbRTIWakFIYCQAXL15hNjtlDBSFCgeDxBZpv5uOkQXBSBP350Gp3z2rO4vUl6r/61/Vj1dc3y3FRDGvmS6yqP/beFUnr18Yf5iyOI/JPmea1hmny+lEC+42Ba7uZ34U9GUzGXiEpNpTQxlIJek5jeYIrGt28QPpn6lFoQERnwvfigqP5LaN5qTu80g9OGQmqJTa4plJoSQpcI1mRBCkkQCwOa331WaAXF1ZRdppGlGpGtG2rQffbiEPY3ldCY1ExtfxFD2kGWIoX620FSLEDvNGcfPcNh2hJDAqOhb11cqqzugnNd14UAXMnRzK10IOZl0VZ93hPOtzL7a8o+Uz24zn3I12RizkIZehPtenl32m31lm7PsU+E6BlzaZM76DRHmTfcIOQbmaJ8YTsBT3pgt3R7cRhiZe/ykDNsuLbrm+tLXApIsEgCQ54AUtXC/FbqQkR87cn7k7U/RhJPisDcLLvpz9Shfbfcy0WYDOTV9AlXb3zplGw3NsRLTC8Qm6WNIpswvMHKhF1dXfsq5RNvfuesTg1Dkij73ljgmuujyHyTdcMOaNibrla5op4REggSA/OkTiM0Gm99+d9JkyEpjIa+vzVK1zE6aEyXXXETnMkWJ0ieJzLodzfvour8rTU3OkPLo2ApUoXIwxPZCsUn66JuhJoRjnzlyoTeG2R5SjqUQQ11SO2XX22yOuRcLqfRXLOjvb7ZdupisTyiEkERQju6AZn6Vmx3cTc7w1V0GbMZMv2lK900tCidV2tj04Vr7ea31JoQQQghB6ej+628htpvuUzX9u6ZGpM1Bvc88qeszX1qUIcRwOhsrocPUrnVjvtZ6E0Kmh+84QkiEqIzur9+ojO62YYBNPiF9QkaJzWI45hofJ84pbxBdhUNXUm4bQkj6cEM9Hq7jhJAI+X9XKi7CQUdtxQAAAABJRU5ErkJggg==\" y=\"-10.037589\"/>\r\n   </g>\r\n   <g id=\"matplotlib.axis_1\">\r\n    <g id=\"xtick_1\">\r\n     <g id=\"line2d_1\">\r\n      <defs>\r\n       <path d=\"M 0 0 \r\nL 0 3.5 \r\n\" id=\"m90962a6572\" style=\"stroke:#000000;stroke-width:0.8;\"/>\r\n      </defs>\r\n      <g>\r\n       <use style=\"stroke:#000000;stroke-width:0.8;\" x=\"33.354441\" xlink:href=\"#m90962a6572\" y=\"118.037589\"/>\r\n      </g>\r\n     </g>\r\n     <g id=\"text_1\">\r\n      <!-- 0 -->\r\n      <g transform=\"translate(30.173191 132.636026)scale(0.1 -0.1)\">\r\n       <defs>\r\n        <path d=\"M 31.78125 66.40625 \r\nQ 24.171875 66.40625 20.328125 58.90625 \r\nQ 16.5 51.421875 16.5 36.375 \r\nQ 16.5 21.390625 20.328125 13.890625 \r\nQ 24.171875 6.390625 31.78125 6.390625 \r\nQ 39.453125 6.390625 43.28125 13.890625 \r\nQ 47.125 21.390625 47.125 36.375 \r\nQ 47.125 51.421875 43.28125 58.90625 \r\nQ 39.453125 66.40625 31.78125 66.40625 \r\nz\r\nM 31.78125 74.21875 \r\nQ 44.046875 74.21875 50.515625 64.515625 \r\nQ 56.984375 54.828125 56.984375 36.375 \r\nQ 56.984375 17.96875 50.515625 8.265625 \r\nQ 44.046875 -1.421875 31.78125 -1.421875 \r\nQ 19.53125 -1.421875 13.0625 8.265625 \r\nQ 6.59375 17.96875 6.59375 36.375 \r\nQ 6.59375 54.828125 13.0625 64.515625 \r\nQ 19.53125 74.21875 31.78125 74.21875 \r\nz\r\n\" id=\"DejaVuSans-48\"/>\r\n       </defs>\r\n       <use xlink:href=\"#DejaVuSans-48\"/>\r\n      </g>\r\n     </g>\r\n    </g>\r\n    <g id=\"xtick_2\">\r\n     <g id=\"line2d_2\">\r\n      <g>\r\n       <use style=\"stroke:#000000;stroke-width:0.8;\" x=\"167.23608\" xlink:href=\"#m90962a6572\" y=\"118.037589\"/>\r\n      </g>\r\n     </g>\r\n     <g id=\"text_2\">\r\n      <!-- 1000 -->\r\n      <g transform=\"translate(154.51108 132.636026)scale(0.1 -0.1)\">\r\n       <defs>\r\n        <path d=\"M 12.40625 8.296875 \r\nL 28.515625 8.296875 \r\nL 28.515625 63.921875 \r\nL 10.984375 60.40625 \r\nL 10.984375 69.390625 \r\nL 28.421875 72.90625 \r\nL 38.28125 72.90625 \r\nL 38.28125 8.296875 \r\nL 54.390625 8.296875 \r\nL 54.390625 0 \r\nL 12.40625 0 \r\nz\r\n\" id=\"DejaVuSans-49\"/>\r\n       </defs>\r\n       <use xlink:href=\"#DejaVuSans-49\"/>\r\n       <use x=\"63.623047\" xlink:href=\"#DejaVuSans-48\"/>\r\n       <use x=\"127.246094\" xlink:href=\"#DejaVuSans-48\"/>\r\n       <use x=\"190.869141\" xlink:href=\"#DejaVuSans-48\"/>\r\n      </g>\r\n     </g>\r\n    </g>\r\n    <g id=\"xtick_3\">\r\n     <g id=\"line2d_3\">\r\n      <g>\r\n       <use style=\"stroke:#000000;stroke-width:0.8;\" x=\"301.117718\" xlink:href=\"#m90962a6572\" y=\"118.037589\"/>\r\n      </g>\r\n     </g>\r\n     <g id=\"text_3\">\r\n      <!-- 2000 -->\r\n      <g transform=\"translate(288.392718 132.636026)scale(0.1 -0.1)\">\r\n       <defs>\r\n        <path d=\"M 19.1875 8.296875 \r\nL 53.609375 8.296875 \r\nL 53.609375 0 \r\nL 7.328125 0 \r\nL 7.328125 8.296875 \r\nQ 12.9375 14.109375 22.625 23.890625 \r\nQ 32.328125 33.6875 34.8125 36.53125 \r\nQ 39.546875 41.84375 41.421875 45.53125 \r\nQ 43.3125 49.21875 43.3125 52.78125 \r\nQ 43.3125 58.59375 39.234375 62.25 \r\nQ 35.15625 65.921875 28.609375 65.921875 \r\nQ 23.96875 65.921875 18.8125 64.3125 \r\nQ 13.671875 62.703125 7.8125 59.421875 \r\nL 7.8125 69.390625 \r\nQ 13.765625 71.78125 18.9375 73 \r\nQ 24.125 74.21875 28.421875 74.21875 \r\nQ 39.75 74.21875 46.484375 68.546875 \r\nQ 53.21875 62.890625 53.21875 53.421875 \r\nQ 53.21875 48.921875 51.53125 44.890625 \r\nQ 49.859375 40.875 45.40625 35.40625 \r\nQ 44.1875 33.984375 37.640625 27.21875 \r\nQ 31.109375 20.453125 19.1875 8.296875 \r\nz\r\n\" id=\"DejaVuSans-50\"/>\r\n       </defs>\r\n       <use xlink:href=\"#DejaVuSans-50\"/>\r\n       <use x=\"63.623047\" xlink:href=\"#DejaVuSans-48\"/>\r\n       <use x=\"127.246094\" xlink:href=\"#DejaVuSans-48\"/>\r\n       <use x=\"190.869141\" xlink:href=\"#DejaVuSans-48\"/>\r\n      </g>\r\n     </g>\r\n    </g>\r\n    <g id=\"xtick_4\">\r\n     <g id=\"line2d_4\">\r\n      <g>\r\n       <use style=\"stroke:#000000;stroke-width:0.8;\" x=\"434.999357\" xlink:href=\"#m90962a6572\" y=\"118.037589\"/>\r\n      </g>\r\n     </g>\r\n     <g id=\"text_4\">\r\n      <!-- 3000 -->\r\n      <g transform=\"translate(422.274357 132.636026)scale(0.1 -0.1)\">\r\n       <defs>\r\n        <path d=\"M 40.578125 39.3125 \r\nQ 47.65625 37.796875 51.625 33 \r\nQ 55.609375 28.21875 55.609375 21.1875 \r\nQ 55.609375 10.40625 48.1875 4.484375 \r\nQ 40.765625 -1.421875 27.09375 -1.421875 \r\nQ 22.515625 -1.421875 17.65625 -0.515625 \r\nQ 12.796875 0.390625 7.625 2.203125 \r\nL 7.625 11.71875 \r\nQ 11.71875 9.328125 16.59375 8.109375 \r\nQ 21.484375 6.890625 26.8125 6.890625 \r\nQ 36.078125 6.890625 40.9375 10.546875 \r\nQ 45.796875 14.203125 45.796875 21.1875 \r\nQ 45.796875 27.640625 41.28125 31.265625 \r\nQ 36.765625 34.90625 28.71875 34.90625 \r\nL 20.21875 34.90625 \r\nL 20.21875 43.015625 \r\nL 29.109375 43.015625 \r\nQ 36.375 43.015625 40.234375 45.921875 \r\nQ 44.09375 48.828125 44.09375 54.296875 \r\nQ 44.09375 59.90625 40.109375 62.90625 \r\nQ 36.140625 65.921875 28.71875 65.921875 \r\nQ 24.65625 65.921875 20.015625 65.03125 \r\nQ 15.375 64.15625 9.8125 62.3125 \r\nL 9.8125 71.09375 \r\nQ 15.4375 72.65625 20.34375 73.4375 \r\nQ 25.25 74.21875 29.59375 74.21875 \r\nQ 40.828125 74.21875 47.359375 69.109375 \r\nQ 53.90625 64.015625 53.90625 55.328125 \r\nQ 53.90625 49.265625 50.4375 45.09375 \r\nQ 46.96875 40.921875 40.578125 39.3125 \r\nz\r\n\" id=\"DejaVuSans-51\"/>\r\n       </defs>\r\n       <use xlink:href=\"#DejaVuSans-51\"/>\r\n       <use x=\"63.623047\" xlink:href=\"#DejaVuSans-48\"/>\r\n       <use x=\"127.246094\" xlink:href=\"#DejaVuSans-48\"/>\r\n       <use x=\"190.869141\" xlink:href=\"#DejaVuSans-48\"/>\r\n      </g>\r\n     </g>\r\n    </g>\r\n    <g id=\"xtick_5\">\r\n     <g id=\"line2d_5\">\r\n      <g>\r\n       <use style=\"stroke:#000000;stroke-width:0.8;\" x=\"568.880996\" xlink:href=\"#m90962a6572\" y=\"118.037589\"/>\r\n      </g>\r\n     </g>\r\n     <g id=\"text_5\">\r\n      <!-- 4000 -->\r\n      <g transform=\"translate(556.155996 132.636026)scale(0.1 -0.1)\">\r\n       <defs>\r\n        <path d=\"M 37.796875 64.3125 \r\nL 12.890625 25.390625 \r\nL 37.796875 25.390625 \r\nz\r\nM 35.203125 72.90625 \r\nL 47.609375 72.90625 \r\nL 47.609375 25.390625 \r\nL 58.015625 25.390625 \r\nL 58.015625 17.1875 \r\nL 47.609375 17.1875 \r\nL 47.609375 0 \r\nL 37.796875 0 \r\nL 37.796875 17.1875 \r\nL 4.890625 17.1875 \r\nL 4.890625 26.703125 \r\nz\r\n\" id=\"DejaVuSans-52\"/>\r\n       </defs>\r\n       <use xlink:href=\"#DejaVuSans-52\"/>\r\n       <use x=\"63.623047\" xlink:href=\"#DejaVuSans-48\"/>\r\n       <use x=\"127.246094\" xlink:href=\"#DejaVuSans-48\"/>\r\n       <use x=\"190.869141\" xlink:href=\"#DejaVuSans-48\"/>\r\n      </g>\r\n     </g>\r\n    </g>\r\n    <g id=\"xtick_6\">\r\n     <g id=\"line2d_6\">\r\n      <g>\r\n       <use style=\"stroke:#000000;stroke-width:0.8;\" x=\"702.762634\" xlink:href=\"#m90962a6572\" y=\"118.037589\"/>\r\n      </g>\r\n     </g>\r\n     <g id=\"text_6\">\r\n      <!-- 5000 -->\r\n      <g transform=\"translate(690.037634 132.636026)scale(0.1 -0.1)\">\r\n       <defs>\r\n        <path d=\"M 10.796875 72.90625 \r\nL 49.515625 72.90625 \r\nL 49.515625 64.59375 \r\nL 19.828125 64.59375 \r\nL 19.828125 46.734375 \r\nQ 21.96875 47.46875 24.109375 47.828125 \r\nQ 26.265625 48.1875 28.421875 48.1875 \r\nQ 40.625 48.1875 47.75 41.5 \r\nQ 54.890625 34.8125 54.890625 23.390625 \r\nQ 54.890625 11.625 47.5625 5.09375 \r\nQ 40.234375 -1.421875 26.90625 -1.421875 \r\nQ 22.3125 -1.421875 17.546875 -0.640625 \r\nQ 12.796875 0.140625 7.71875 1.703125 \r\nL 7.71875 11.625 \r\nQ 12.109375 9.234375 16.796875 8.0625 \r\nQ 21.484375 6.890625 26.703125 6.890625 \r\nQ 35.15625 6.890625 40.078125 11.328125 \r\nQ 45.015625 15.765625 45.015625 23.390625 \r\nQ 45.015625 31 40.078125 35.4375 \r\nQ 35.15625 39.890625 26.703125 39.890625 \r\nQ 22.75 39.890625 18.8125 39.015625 \r\nQ 14.890625 38.140625 10.796875 36.28125 \r\nz\r\n\" id=\"DejaVuSans-53\"/>\r\n       </defs>\r\n       <use xlink:href=\"#DejaVuSans-53\"/>\r\n       <use x=\"63.623047\" xlink:href=\"#DejaVuSans-48\"/>\r\n       <use x=\"127.246094\" xlink:href=\"#DejaVuSans-48\"/>\r\n       <use x=\"190.869141\" xlink:href=\"#DejaVuSans-48\"/>\r\n      </g>\r\n     </g>\r\n    </g>\r\n    <g id=\"xtick_7\">\r\n     <g id=\"line2d_7\">\r\n      <g>\r\n       <use style=\"stroke:#000000;stroke-width:0.8;\" x=\"836.644273\" xlink:href=\"#m90962a6572\" y=\"118.037589\"/>\r\n      </g>\r\n     </g>\r\n     <g id=\"text_7\">\r\n      <!-- 6000 -->\r\n      <g transform=\"translate(823.919273 132.636026)scale(0.1 -0.1)\">\r\n       <defs>\r\n        <path d=\"M 33.015625 40.375 \r\nQ 26.375 40.375 22.484375 35.828125 \r\nQ 18.609375 31.296875 18.609375 23.390625 \r\nQ 18.609375 15.53125 22.484375 10.953125 \r\nQ 26.375 6.390625 33.015625 6.390625 \r\nQ 39.65625 6.390625 43.53125 10.953125 \r\nQ 47.40625 15.53125 47.40625 23.390625 \r\nQ 47.40625 31.296875 43.53125 35.828125 \r\nQ 39.65625 40.375 33.015625 40.375 \r\nz\r\nM 52.59375 71.296875 \r\nL 52.59375 62.3125 \r\nQ 48.875 64.0625 45.09375 64.984375 \r\nQ 41.3125 65.921875 37.59375 65.921875 \r\nQ 27.828125 65.921875 22.671875 59.328125 \r\nQ 17.53125 52.734375 16.796875 39.40625 \r\nQ 19.671875 43.65625 24.015625 45.921875 \r\nQ 28.375 48.1875 33.59375 48.1875 \r\nQ 44.578125 48.1875 50.953125 41.515625 \r\nQ 57.328125 34.859375 57.328125 23.390625 \r\nQ 57.328125 12.15625 50.6875 5.359375 \r\nQ 44.046875 -1.421875 33.015625 -1.421875 \r\nQ 20.359375 -1.421875 13.671875 8.265625 \r\nQ 6.984375 17.96875 6.984375 36.375 \r\nQ 6.984375 53.65625 15.1875 63.9375 \r\nQ 23.390625 74.21875 37.203125 74.21875 \r\nQ 40.921875 74.21875 44.703125 73.484375 \r\nQ 48.484375 72.75 52.59375 71.296875 \r\nz\r\n\" id=\"DejaVuSans-54\"/>\r\n       </defs>\r\n       <use xlink:href=\"#DejaVuSans-54\"/>\r\n       <use x=\"63.623047\" xlink:href=\"#DejaVuSans-48\"/>\r\n       <use x=\"127.246094\" xlink:href=\"#DejaVuSans-48\"/>\r\n       <use x=\"190.869141\" xlink:href=\"#DejaVuSans-48\"/>\r\n      </g>\r\n     </g>\r\n    </g>\r\n   </g>\r\n   <g id=\"matplotlib.axis_2\">\r\n    <g id=\"ytick_1\">\r\n     <g id=\"line2d_8\">\r\n      <defs>\r\n       <path d=\"M 0 0 \r\nL -3.5 0 \r\n\" id=\"mbe08e9d3c5\" style=\"stroke:#000000;stroke-width:0.8;\"/>\r\n      </defs>\r\n      <g>\r\n       <use style=\"stroke:#000000;stroke-width:0.8;\" x=\"33.2875\" xlink:href=\"#mbe08e9d3c5\" y=\"10.999219\"/>\r\n      </g>\r\n     </g>\r\n     <g id=\"text_8\">\r\n      <!-- 0 -->\r\n      <g transform=\"translate(19.925 14.798438)scale(0.1 -0.1)\">\r\n       <use xlink:href=\"#DejaVuSans-48\"/>\r\n      </g>\r\n     </g>\r\n    </g>\r\n    <g id=\"ytick_2\">\r\n     <g id=\"line2d_9\">\r\n      <g>\r\n       <use style=\"stroke:#000000;stroke-width:0.8;\" x=\"33.2875\" xlink:href=\"#mbe08e9d3c5\" y=\"37.775546\"/>\r\n      </g>\r\n     </g>\r\n     <g id=\"text_9\">\r\n      <!-- 200 -->\r\n      <g transform=\"translate(7.2 41.574765)scale(0.1 -0.1)\">\r\n       <use xlink:href=\"#DejaVuSans-50\"/>\r\n       <use x=\"63.623047\" xlink:href=\"#DejaVuSans-48\"/>\r\n       <use x=\"127.246094\" xlink:href=\"#DejaVuSans-48\"/>\r\n      </g>\r\n     </g>\r\n    </g>\r\n    <g id=\"ytick_3\">\r\n     <g id=\"line2d_10\">\r\n      <g>\r\n       <use style=\"stroke:#000000;stroke-width:0.8;\" x=\"33.2875\" xlink:href=\"#mbe08e9d3c5\" y=\"64.551874\"/>\r\n      </g>\r\n     </g>\r\n     <g id=\"text_10\">\r\n      <!-- 400 -->\r\n      <g transform=\"translate(7.2 68.351093)scale(0.1 -0.1)\">\r\n       <use xlink:href=\"#DejaVuSans-52\"/>\r\n       <use x=\"63.623047\" xlink:href=\"#DejaVuSans-48\"/>\r\n       <use x=\"127.246094\" xlink:href=\"#DejaVuSans-48\"/>\r\n      </g>\r\n     </g>\r\n    </g>\r\n    <g id=\"ytick_4\">\r\n     <g id=\"line2d_11\">\r\n      <g>\r\n       <use style=\"stroke:#000000;stroke-width:0.8;\" x=\"33.2875\" xlink:href=\"#mbe08e9d3c5\" y=\"91.328202\"/>\r\n      </g>\r\n     </g>\r\n     <g id=\"text_11\">\r\n      <!-- 600 -->\r\n      <g transform=\"translate(7.2 95.127421)scale(0.1 -0.1)\">\r\n       <use xlink:href=\"#DejaVuSans-54\"/>\r\n       <use x=\"63.623047\" xlink:href=\"#DejaVuSans-48\"/>\r\n       <use x=\"127.246094\" xlink:href=\"#DejaVuSans-48\"/>\r\n      </g>\r\n     </g>\r\n    </g>\r\n   </g>\r\n   <g id=\"patch_3\">\r\n    <path d=\"M 33.2875 118.037589 \r\nL 33.2875 10.932278 \r\n\" style=\"fill:none;stroke:#000000;stroke-linecap:square;stroke-linejoin:miter;stroke-width:0.8;\"/>\r\n   </g>\r\n   <g id=\"patch_4\">\r\n    <path d=\"M 837.648385 118.037589 \r\nL 837.648385 10.932278 \r\n\" style=\"fill:none;stroke:#000000;stroke-linecap:square;stroke-linejoin:miter;stroke-width:0.8;\"/>\r\n   </g>\r\n   <g id=\"patch_5\">\r\n    <path d=\"M 33.2875 118.037589 \r\nL 837.648385 118.037589 \r\n\" style=\"fill:none;stroke:#000000;stroke-linecap:square;stroke-linejoin:miter;stroke-width:0.8;\"/>\r\n   </g>\r\n   <g id=\"patch_6\">\r\n    <path d=\"M 33.2875 10.932278 \r\nL 837.648385 10.932278 \r\n\" style=\"fill:none;stroke:#000000;stroke-linecap:square;stroke-linejoin:miter;stroke-width:0.8;\"/>\r\n   </g>\r\n  </g>\r\n </g>\r\n <defs>\r\n  <clipPath id=\"p8e0828b74a\">\r\n   <rect height=\"107.105311\" width=\"804.360885\" x=\"33.2875\" y=\"10.932278\"/>\r\n  </clipPath>\r\n </defs>\r\n</svg>\r\n",
      "image/png": "[encoded data removed]"
     },
     "metadata": {
      "needs_background": "light"
     }
    }
   ],
   "source": [
    "fig, ax = plt.subplots(figsize=(12, 2))\n",
    "ax.imshow(trn_term_doc.todense(), interpolation='nearest')\n",
    "plt.tight_layout()"
   ]
  },
  {
   "source": [
    "ซูมดู"
   ],
   "cell_type": "markdown",
   "metadata": {}
  },
  {
   "cell_type": "code",
   "execution_count": 38,
   "metadata": {},
   "outputs": [
    {
     "output_type": "display_data",
     "data": {
      "text/plain": "<Figure size 864x864 with 1 Axes>",
      "image/svg+xml": "<?xml version=\"1.0\" encoding=\"utf-8\" standalone=\"no\"?>\r\n<!DOCTYPE svg PUBLIC \"-//W3C//DTD SVG 1.1//EN\"\r\n  \"http://www.w3.org/Graphics/SVG/1.1/DTD/svg11.dtd\">\r\n<!-- Created with matplotlib (https://matplotlib.org/) -->\r\n<svg height=\"855.739725pt\" version=\"1.1\" viewBox=\"0 0 858.7866 855.739725\" width=\"858.7866pt\" xmlns=\"http://www.w3.org/2000/svg\" xmlns:xlink=\"http://www.w3.org/1999/xlink\">\r\n <metadata>\r\n  <rdf:RDF xmlns:cc=\"http://creativecommons.org/ns#\" xmlns:dc=\"http://purl.org/dc/elements/1.1/\" xmlns:rdf=\"http://www.w3.org/1999/02/22-rdf-syntax-ns#\">\r\n   <cc:Work>\r\n    <dc:type rdf:resource=\"http://purl.org/dc/dcmitype/StillImage\"/>\r\n    <dc:date>2021-02-12T23:05:31.119061</dc:date>\r\n    <dc:format>image/svg+xml</dc:format>\r\n    <dc:creator>\r\n     <cc:Agent>\r\n      <dc:title>Matplotlib v3.3.2, https://matplotlib.org/</dc:title>\r\n     </cc:Agent>\r\n    </dc:creator>\r\n   </cc:Work>\r\n  </rdf:RDF>\r\n </metadata>\r\n <defs>\r\n  <style type=\"text/css\">*{stroke-linecap:butt;stroke-linejoin:round;}</style>\r\n </defs>\r\n <g id=\"figure_1\">\r\n  <g id=\"patch_1\">\r\n   <path d=\"M 0 855.739725 \r\nL 858.7866 855.739725 \r\nL 858.7866 0 \r\nL 0 0 \r\nz\r\n\" style=\"fill:none;\"/>\r\n  </g>\r\n  <g id=\"axes_1\">\r\n   <g id=\"patch_2\">\r\n    <path d=\"M 26.925 831.8616 \r\nL 851.5866 831.8616 \r\nL 851.5866 7.2 \r\nL 26.925 7.2 \r\nz\r\n\" style=\"fill:#ffffff;\"/>\r\n   </g>\r\n   <g clip-path=\"url(#p4422c17d78)\">\r\n    <image height=\"825\" id=\"image502411fcbd\" transform=\"scale(1 -1)translate(0 -825)\" width=\"825\" x=\"26.925\" xlink:href=\"data:image/png;base64,\r\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\" y=\"-6.8616\"/>\r\n   </g>\r\n   <g id=\"matplotlib.axis_1\">\r\n    <g id=\"xtick_1\">\r\n     <g id=\"line2d_1\">\r\n      <defs>\r\n       <path d=\"M 0 0 \r\nL 0 3.5 \r\n\" id=\"m7f0620d8ed\" style=\"stroke:#000000;stroke-width:0.8;\"/>\r\n      </defs>\r\n      <g>\r\n       <use style=\"stroke:#000000;stroke-width:0.8;\" x=\"31.048308\" xlink:href=\"#m7f0620d8ed\" y=\"831.8616\"/>\r\n      </g>\r\n     </g>\r\n     <g id=\"text_1\">\r\n      <!-- 0 -->\r\n      <g transform=\"translate(27.867058 846.460037)scale(0.1 -0.1)\">\r\n       <defs>\r\n        <path d=\"M 31.78125 66.40625 \r\nQ 24.171875 66.40625 20.328125 58.90625 \r\nQ 16.5 51.421875 16.5 36.375 \r\nQ 16.5 21.390625 20.328125 13.890625 \r\nQ 24.171875 6.390625 31.78125 6.390625 \r\nQ 39.453125 6.390625 43.28125 13.890625 \r\nQ 47.125 21.390625 47.125 36.375 \r\nQ 47.125 51.421875 43.28125 58.90625 \r\nQ 39.453125 66.40625 31.78125 66.40625 \r\nz\r\nM 31.78125 74.21875 \r\nQ 44.046875 74.21875 50.515625 64.515625 \r\nQ 56.984375 54.828125 56.984375 36.375 \r\nQ 56.984375 17.96875 50.515625 8.265625 \r\nQ 44.046875 -1.421875 31.78125 -1.421875 \r\nQ 19.53125 -1.421875 13.0625 8.265625 \r\nQ 6.59375 17.96875 6.59375 36.375 \r\nQ 6.59375 54.828125 13.0625 64.515625 \r\nQ 19.53125 74.21875 31.78125 74.21875 \r\nz\r\n\" id=\"DejaVuSans-48\"/>\r\n       </defs>\r\n       <use xlink:href=\"#DejaVuSans-48\"/>\r\n      </g>\r\n     </g>\r\n    </g>\r\n    <g id=\"xtick_2\">\r\n     <g id=\"line2d_2\">\r\n      <g>\r\n       <use style=\"stroke:#000000;stroke-width:0.8;\" x=\"195.980628\" xlink:href=\"#m7f0620d8ed\" y=\"831.8616\"/>\r\n      </g>\r\n     </g>\r\n     <g id=\"text_2\">\r\n      <!-- 20 -->\r\n      <g transform=\"translate(189.618128 846.460037)scale(0.1 -0.1)\">\r\n       <defs>\r\n        <path d=\"M 19.1875 8.296875 \r\nL 53.609375 8.296875 \r\nL 53.609375 0 \r\nL 7.328125 0 \r\nL 7.328125 8.296875 \r\nQ 12.9375 14.109375 22.625 23.890625 \r\nQ 32.328125 33.6875 34.8125 36.53125 \r\nQ 39.546875 41.84375 41.421875 45.53125 \r\nQ 43.3125 49.21875 43.3125 52.78125 \r\nQ 43.3125 58.59375 39.234375 62.25 \r\nQ 35.15625 65.921875 28.609375 65.921875 \r\nQ 23.96875 65.921875 18.8125 64.3125 \r\nQ 13.671875 62.703125 7.8125 59.421875 \r\nL 7.8125 69.390625 \r\nQ 13.765625 71.78125 18.9375 73 \r\nQ 24.125 74.21875 28.421875 74.21875 \r\nQ 39.75 74.21875 46.484375 68.546875 \r\nQ 53.21875 62.890625 53.21875 53.421875 \r\nQ 53.21875 48.921875 51.53125 44.890625 \r\nQ 49.859375 40.875 45.40625 35.40625 \r\nQ 44.1875 33.984375 37.640625 27.21875 \r\nQ 31.109375 20.453125 19.1875 8.296875 \r\nz\r\n\" id=\"DejaVuSans-50\"/>\r\n       </defs>\r\n       <use xlink:href=\"#DejaVuSans-50\"/>\r\n       <use x=\"63.623047\" xlink:href=\"#DejaVuSans-48\"/>\r\n      </g>\r\n     </g>\r\n    </g>\r\n    <g id=\"xtick_3\">\r\n     <g id=\"line2d_3\">\r\n      <g>\r\n       <use style=\"stroke:#000000;stroke-width:0.8;\" x=\"360.912948\" xlink:href=\"#m7f0620d8ed\" y=\"831.8616\"/>\r\n      </g>\r\n     </g>\r\n     <g id=\"text_3\">\r\n      <!-- 40 -->\r\n      <g transform=\"translate(354.550448 846.460037)scale(0.1 -0.1)\">\r\n       <defs>\r\n        <path d=\"M 37.796875 64.3125 \r\nL 12.890625 25.390625 \r\nL 37.796875 25.390625 \r\nz\r\nM 35.203125 72.90625 \r\nL 47.609375 72.90625 \r\nL 47.609375 25.390625 \r\nL 58.015625 25.390625 \r\nL 58.015625 17.1875 \r\nL 47.609375 17.1875 \r\nL 47.609375 0 \r\nL 37.796875 0 \r\nL 37.796875 17.1875 \r\nL 4.890625 17.1875 \r\nL 4.890625 26.703125 \r\nz\r\n\" id=\"DejaVuSans-52\"/>\r\n       </defs>\r\n       <use xlink:href=\"#DejaVuSans-52\"/>\r\n       <use x=\"63.623047\" xlink:href=\"#DejaVuSans-48\"/>\r\n      </g>\r\n     </g>\r\n    </g>\r\n    <g id=\"xtick_4\">\r\n     <g id=\"line2d_4\">\r\n      <g>\r\n       <use style=\"stroke:#000000;stroke-width:0.8;\" x=\"525.845268\" xlink:href=\"#m7f0620d8ed\" y=\"831.8616\"/>\r\n      </g>\r\n     </g>\r\n     <g id=\"text_4\">\r\n      <!-- 60 -->\r\n      <g transform=\"translate(519.482768 846.460037)scale(0.1 -0.1)\">\r\n       <defs>\r\n        <path d=\"M 33.015625 40.375 \r\nQ 26.375 40.375 22.484375 35.828125 \r\nQ 18.609375 31.296875 18.609375 23.390625 \r\nQ 18.609375 15.53125 22.484375 10.953125 \r\nQ 26.375 6.390625 33.015625 6.390625 \r\nQ 39.65625 6.390625 43.53125 10.953125 \r\nQ 47.40625 15.53125 47.40625 23.390625 \r\nQ 47.40625 31.296875 43.53125 35.828125 \r\nQ 39.65625 40.375 33.015625 40.375 \r\nz\r\nM 52.59375 71.296875 \r\nL 52.59375 62.3125 \r\nQ 48.875 64.0625 45.09375 64.984375 \r\nQ 41.3125 65.921875 37.59375 65.921875 \r\nQ 27.828125 65.921875 22.671875 59.328125 \r\nQ 17.53125 52.734375 16.796875 39.40625 \r\nQ 19.671875 43.65625 24.015625 45.921875 \r\nQ 28.375 48.1875 33.59375 48.1875 \r\nQ 44.578125 48.1875 50.953125 41.515625 \r\nQ 57.328125 34.859375 57.328125 23.390625 \r\nQ 57.328125 12.15625 50.6875 5.359375 \r\nQ 44.046875 -1.421875 33.015625 -1.421875 \r\nQ 20.359375 -1.421875 13.671875 8.265625 \r\nQ 6.984375 17.96875 6.984375 36.375 \r\nQ 6.984375 53.65625 15.1875 63.9375 \r\nQ 23.390625 74.21875 37.203125 74.21875 \r\nQ 40.921875 74.21875 44.703125 73.484375 \r\nQ 48.484375 72.75 52.59375 71.296875 \r\nz\r\n\" id=\"DejaVuSans-54\"/>\r\n       </defs>\r\n       <use xlink:href=\"#DejaVuSans-54\"/>\r\n       <use x=\"63.623047\" xlink:href=\"#DejaVuSans-48\"/>\r\n      </g>\r\n     </g>\r\n    </g>\r\n    <g id=\"xtick_5\">\r\n     <g id=\"line2d_5\">\r\n      <g>\r\n       <use style=\"stroke:#000000;stroke-width:0.8;\" x=\"690.777588\" xlink:href=\"#m7f0620d8ed\" y=\"831.8616\"/>\r\n      </g>\r\n     </g>\r\n     <g id=\"text_5\">\r\n      <!-- 80 -->\r\n      <g transform=\"translate(684.415088 846.460037)scale(0.1 -0.1)\">\r\n       <defs>\r\n        <path d=\"M 31.78125 34.625 \r\nQ 24.75 34.625 20.71875 30.859375 \r\nQ 16.703125 27.09375 16.703125 20.515625 \r\nQ 16.703125 13.921875 20.71875 10.15625 \r\nQ 24.75 6.390625 31.78125 6.390625 \r\nQ 38.8125 6.390625 42.859375 10.171875 \r\nQ 46.921875 13.96875 46.921875 20.515625 \r\nQ 46.921875 27.09375 42.890625 30.859375 \r\nQ 38.875 34.625 31.78125 34.625 \r\nz\r\nM 21.921875 38.8125 \r\nQ 15.578125 40.375 12.03125 44.71875 \r\nQ 8.5 49.078125 8.5 55.328125 \r\nQ 8.5 64.0625 14.71875 69.140625 \r\nQ 20.953125 74.21875 31.78125 74.21875 \r\nQ 42.671875 74.21875 48.875 69.140625 \r\nQ 55.078125 64.0625 55.078125 55.328125 \r\nQ 55.078125 49.078125 51.53125 44.71875 \r\nQ 48 40.375 41.703125 38.8125 \r\nQ 48.828125 37.15625 52.796875 32.3125 \r\nQ 56.78125 27.484375 56.78125 20.515625 \r\nQ 56.78125 9.90625 50.3125 4.234375 \r\nQ 43.84375 -1.421875 31.78125 -1.421875 \r\nQ 19.734375 -1.421875 13.25 4.234375 \r\nQ 6.78125 9.90625 6.78125 20.515625 \r\nQ 6.78125 27.484375 10.78125 32.3125 \r\nQ 14.796875 37.15625 21.921875 38.8125 \r\nz\r\nM 18.3125 54.390625 \r\nQ 18.3125 48.734375 21.84375 45.5625 \r\nQ 25.390625 42.390625 31.78125 42.390625 \r\nQ 38.140625 42.390625 41.71875 45.5625 \r\nQ 45.3125 48.734375 45.3125 54.390625 \r\nQ 45.3125 60.0625 41.71875 63.234375 \r\nQ 38.140625 66.40625 31.78125 66.40625 \r\nQ 25.390625 66.40625 21.84375 63.234375 \r\nQ 18.3125 60.0625 18.3125 54.390625 \r\nz\r\n\" id=\"DejaVuSans-56\"/>\r\n       </defs>\r\n       <use xlink:href=\"#DejaVuSans-56\"/>\r\n       <use x=\"63.623047\" xlink:href=\"#DejaVuSans-48\"/>\r\n      </g>\r\n     </g>\r\n    </g>\r\n   </g>\r\n   <g id=\"matplotlib.axis_2\">\r\n    <g id=\"ytick_1\">\r\n     <g id=\"line2d_6\">\r\n      <defs>\r\n       <path d=\"M 0 0 \r\nL -3.5 0 \r\n\" id=\"md3a6d9b9f4\" style=\"stroke:#000000;stroke-width:0.8;\"/>\r\n      </defs>\r\n      <g>\r\n       <use style=\"stroke:#000000;stroke-width:0.8;\" x=\"26.925\" xlink:href=\"#md3a6d9b9f4\" y=\"11.323308\"/>\r\n      </g>\r\n     </g>\r\n     <g id=\"text_6\">\r\n      <!-- 0 -->\r\n      <g transform=\"translate(13.5625 15.122527)scale(0.1 -0.1)\">\r\n       <use xlink:href=\"#DejaVuSans-48\"/>\r\n      </g>\r\n     </g>\r\n    </g>\r\n    <g id=\"ytick_2\">\r\n     <g id=\"line2d_7\">\r\n      <g>\r\n       <use style=\"stroke:#000000;stroke-width:0.8;\" x=\"26.925\" xlink:href=\"#md3a6d9b9f4\" y=\"176.255628\"/>\r\n      </g>\r\n     </g>\r\n     <g id=\"text_7\">\r\n      <!-- 20 -->\r\n      <g transform=\"translate(7.2 180.054847)scale(0.1 -0.1)\">\r\n       <use xlink:href=\"#DejaVuSans-50\"/>\r\n       <use x=\"63.623047\" xlink:href=\"#DejaVuSans-48\"/>\r\n      </g>\r\n     </g>\r\n    </g>\r\n    <g id=\"ytick_3\">\r\n     <g id=\"line2d_8\">\r\n      <g>\r\n       <use style=\"stroke:#000000;stroke-width:0.8;\" x=\"26.925\" xlink:href=\"#md3a6d9b9f4\" y=\"341.187948\"/>\r\n      </g>\r\n     </g>\r\n     <g id=\"text_8\">\r\n      <!-- 40 -->\r\n      <g transform=\"translate(7.2 344.987167)scale(0.1 -0.1)\">\r\n       <use xlink:href=\"#DejaVuSans-52\"/>\r\n       <use x=\"63.623047\" xlink:href=\"#DejaVuSans-48\"/>\r\n      </g>\r\n     </g>\r\n    </g>\r\n    <g id=\"ytick_4\">\r\n     <g id=\"line2d_9\">\r\n      <g>\r\n       <use style=\"stroke:#000000;stroke-width:0.8;\" x=\"26.925\" xlink:href=\"#md3a6d9b9f4\" y=\"506.120268\"/>\r\n      </g>\r\n     </g>\r\n     <g id=\"text_9\">\r\n      <!-- 60 -->\r\n      <g transform=\"translate(7.2 509.919487)scale(0.1 -0.1)\">\r\n       <use xlink:href=\"#DejaVuSans-54\"/>\r\n       <use x=\"63.623047\" xlink:href=\"#DejaVuSans-48\"/>\r\n      </g>\r\n     </g>\r\n    </g>\r\n    <g id=\"ytick_5\">\r\n     <g id=\"line2d_10\">\r\n      <g>\r\n       <use style=\"stroke:#000000;stroke-width:0.8;\" x=\"26.925\" xlink:href=\"#md3a6d9b9f4\" y=\"671.052588\"/>\r\n      </g>\r\n     </g>\r\n     <g id=\"text_10\">\r\n      <!-- 80 -->\r\n      <g transform=\"translate(7.2 674.851807)scale(0.1 -0.1)\">\r\n       <use xlink:href=\"#DejaVuSans-56\"/>\r\n       <use x=\"63.623047\" xlink:href=\"#DejaVuSans-48\"/>\r\n      </g>\r\n     </g>\r\n    </g>\r\n   </g>\r\n   <g id=\"patch_3\">\r\n    <path d=\"M 26.925 831.8616 \r\nL 26.925 7.2 \r\n\" style=\"fill:none;stroke:#000000;stroke-linecap:square;stroke-linejoin:miter;stroke-width:0.8;\"/>\r\n   </g>\r\n   <g id=\"patch_4\">\r\n    <path d=\"M 851.5866 831.8616 \r\nL 851.5866 7.2 \r\n\" style=\"fill:none;stroke:#000000;stroke-linecap:square;stroke-linejoin:miter;stroke-width:0.8;\"/>\r\n   </g>\r\n   <g id=\"patch_5\">\r\n    <path d=\"M 26.925 831.8616 \r\nL 851.5866 831.8616 \r\n\" style=\"fill:none;stroke:#000000;stroke-linecap:square;stroke-linejoin:miter;stroke-width:0.8;\"/>\r\n   </g>\r\n   <g id=\"patch_6\">\r\n    <path d=\"M 26.925 7.2 \r\nL 851.5866 7.2 \r\n\" style=\"fill:none;stroke:#000000;stroke-linecap:square;stroke-linejoin:miter;stroke-width:0.8;\"/>\r\n   </g>\r\n  </g>\r\n </g>\r\n <defs>\r\n  <clipPath id=\"p4422c17d78\">\r\n   <rect height=\"824.6616\" width=\"824.6616\" x=\"26.925\" y=\"7.2\"/>\r\n  </clipPath>\r\n </defs>\r\n</svg>\r\n",
      "image/png": "[encoded data removed]"
     },
     "metadata": {
      "needs_background": "light"
     }
    }
   ],
   "source": [
    "fig, ax = plt.subplots(figsize=(12, 12))\n",
    "ax.imshow(trn_term_doc.todense()[:100, :100], interpolation='nearest')\n",
    "plt.tight_layout()"
   ]
  },
  {
   "source": [
    "4) Data Exploration"
   ],
   "cell_type": "markdown",
   "metadata": {}
  },
  {
   "cell_type": "code",
   "execution_count": 39,
   "metadata": {},
   "outputs": [],
   "source": [
    "\n",
    "v = movie_reviews.vocab"
   ]
  },
  {
   "cell_type": "code",
   "execution_count": 40,
   "metadata": {},
   "outputs": [
    {
     "output_type": "execute_result",
     "data": {
      "text/plain": [
       "'xxunk'"
      ]
     },
     "metadata": {},
     "execution_count": 40
    }
   ],
   "source": [
    "v.itos[0]"
   ]
  },
  {
   "cell_type": "code",
   "execution_count": 41,
   "metadata": {},
   "outputs": [
    {
     "output_type": "execute_result",
     "data": {
      "text/plain": [
       "['sollett']"
      ]
     },
     "metadata": {},
     "execution_count": 41
    }
   ],
   "source": [
    "v.itos[-1:]"
   ]
  },
  {
   "cell_type": "code",
   "execution_count": 42,
   "metadata": {},
   "outputs": [
    {
     "output_type": "execute_result",
     "data": {
      "text/plain": [
       "'xxeos'"
      ]
     },
     "metadata": {},
     "execution_count": 42
    }
   ],
   "source": [
    "v.itos[3]"
   ]
  },
  {
   "cell_type": "code",
   "execution_count": 43,
   "metadata": {},
   "outputs": [
    {
     "output_type": "execute_result",
     "data": {
      "text/plain": [
       "'xxmaj'"
      ]
     },
     "metadata": {},
     "execution_count": 43
    }
   ],
   "source": [
    "v.itos[5]"
   ]
  },
  {
   "cell_type": "code",
   "execution_count": 44,
   "metadata": {},
   "outputs": [
    {
     "output_type": "execute_result",
     "data": {
      "text/plain": [
       "Text [  2  19 248  21 ...   9   0  10   0]"
      ]
     },
     "metadata": {},
     "execution_count": 44
    }
   ],
   "source": [
    "review = movie_reviews.valid.x[1]; review"
   ]
  },
  {
   "cell_type": "code",
   "execution_count": 45,
   "metadata": {},
   "outputs": [
    {
     "output_type": "execute_result",
     "data": {
      "text/plain": [
       "451"
      ]
     },
     "metadata": {},
     "execution_count": 45
    }
   ],
   "source": [
    "i = v.stoi['late']; i"
   ]
  },
  {
   "cell_type": "code",
   "execution_count": null,
   "metadata": {},
   "outputs": [],
   "source": []
  }
 ]
}