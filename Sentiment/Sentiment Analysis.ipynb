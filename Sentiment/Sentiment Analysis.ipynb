{
 "metadata": {
  "language_info": {
   "codemirror_mode": {
    "name": "ipython",
    "version": 3
   },
   "file_extension": ".py",
   "mimetype": "text/x-python",
   "name": "python",
   "nbconvert_exporter": "python",
   "pygments_lexer": "ipython3",
   "version": "3.8.3-final"
  },
  "orig_nbformat": 2,
  "kernelspec": {
   "name": "python3",
   "display_name": "Python 3",
   "language": "python"
  }
 },
 "nbformat": 4,
 "nbformat_minor": 2,
 "cells": [
  {
   "cell_type": "code",
   "execution_count": 1,
   "metadata": {},
   "outputs": [],
   "source": [
    "from nltk import NaiveBayesClassifier as nbc\n",
    "from pythainlp.tokenize import word_tokenize\n",
    "import codecs\n",
    "from itertools import chain"
   ]
  },
  {
   "cell_type": "code",
   "execution_count": 2,
   "metadata": {},
   "outputs": [],
   "source": [
    "# pos.txt\n",
    "with codecs.open('pos.txt', 'r', \"utf-8\") as f:\n",
    "  lines = f.readlines()\n",
    "listpos=[e.strip() for e in lines]\n",
    "del lines\n",
    "f.close() # ปิดไฟล์\n",
    "# neg.txt\n",
    "with codecs.open('neg.txt', 'r', \"utf-8\") as f:\n",
    "  lines = f.readlines()\n",
    "listneg=[e.strip() for e in lines]\n",
    "del lines\n",
    "f.close() # ปิดไฟล์"
   ]
  },
  {
   "cell_type": "code",
   "execution_count": 3,
   "metadata": {},
   "outputs": [],
   "source": [
    "pos1=['pos']*len(listpos)\n",
    "neg1=['neg']*len(listneg)\n",
    "training_data = list(zip(listpos,pos1)) + list(zip(listneg,neg1))"
   ]
  },
  {
   "source": [
    "แบ่งคำออกจากประโยคโดยใช้ PyThaiNLP แล้วหาเวกเตอร์คำ"
   ],
   "cell_type": "markdown",
   "metadata": {}
  },
  {
   "cell_type": "code",
   "execution_count": 4,
   "metadata": {},
   "outputs": [],
   "source": [
    "vocabulary = set(chain(*[word_tokenize(i[0].lower()) for i in training_data]))\n",
    "feature_set = [({i:(i in word_tokenize(sentence.lower())) for i in vocabulary},tag) for sentence, tag in training_data]"
   ]
  },
  {
   "source": [
    "train โมเดลด้วยอัลกอริทึม Naive Bayes โดยใช้ NLTK"
   ],
   "cell_type": "markdown",
   "metadata": {}
  },
  {
   "cell_type": "code",
   "execution_count": 5,
   "metadata": {},
   "outputs": [],
   "source": [
    "classifier = nbc.train(feature_set)"
   ]
  },
  {
   "source": [
    "รับข้อความแล้วประมวลผล Sentiment Analysis"
   ],
   "cell_type": "markdown",
   "metadata": {}
  },
  {
   "cell_type": "code",
   "execution_count": null,
   "metadata": {},
   "outputs": [],
   "source": [
    "while True:\n",
    "  test_sentence = input('\\nข้อความ : ')\n",
    "  featurized_test_sentence = {i:(i in word_tokenize(test_sentence.lower())) for i in vocabulary}\n",
    "  print(\"test_sent:\",test_sentence)\n",
    "  print(\"tag:\",classifier.classify(featurized_test_sentence)) # ใช้โมเดลที่ train ประมวลผล"
   ]
  },
  {
   "cell_type": "code",
   "execution_count": null,
   "metadata": {},
   "outputs": [],
   "source": []
  }
 ]
}