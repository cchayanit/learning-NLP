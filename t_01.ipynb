{
 "metadata": {
  "language_info": {
   "codemirror_mode": {
    "name": "ipython",
    "version": 3
   },
   "file_extension": ".py",
   "mimetype": "text/x-python",
   "name": "python",
   "nbconvert_exporter": "python",
   "pygments_lexer": "ipython3",
   "version": "3.8.3-final"
  },
  "orig_nbformat": 2,
  "kernelspec": {
   "name": "python3",
   "display_name": "Python 3.8.3 64-bit (conda)",
   "metadata": {
    "interpreter": {
     "hash": "6d46af94c2bbce495f1e668725902fa517c90b1782bcfe2fce0dd9868df553d3"
    }
   }
  }
 },
 "nbformat": 4,
 "nbformat_minor": 2,
 "cells": [
  {
   "cell_type": "code",
   "execution_count": 1,
   "metadata": {},
   "outputs": [],
   "source": [
    "!pip -q install transformers\n",
    "!pip -q install sentencepiece"
   ]
  },
  {
   "cell_type": "code",
   "execution_count": 2,
   "metadata": {},
   "outputs": [],
   "source": [
    "!pip -q install datasets"
   ]
  },
  {
   "cell_type": "code",
   "execution_count": 3,
   "metadata": {},
   "outputs": [
    {
     "output_type": "stream",
     "name": "stdout",
     "text": [
      "2.4.0 4.1.1\n"
     ]
    },
    {
     "output_type": "execute_result",
     "data": {
      "text/plain": [
       "'1.2.0'"
      ]
     },
     "metadata": {},
     "execution_count": 3
    }
   ],
   "source": [
    "import tensorflow as tf\n",
    "import transformers\n",
    "import datasets\n",
    "import numpy as np\n",
    "import pandas as pd\n",
    "from tqdm.notebook import tqdm\n",
    "import re\n",
    "\n",
    "print(tf.__version__, transformers.__version__) # \n",
    "datasets.__version__"
   ]
  },
  {
   "cell_type": "code",
   "execution_count": 4,
   "metadata": {},
   "outputs": [
    {
     "output_type": "stream",
     "name": "stderr",
     "text": [
      "Downloading: 4.08kB [00:00, 1.03MB/s]                   \n",
      "Downloading and preparing dataset scb_mt_enth2020/then (download: Unknown size, generated: Unknown size, post-processed: Unknown size, total: Unknown size) to C:\\Users\\user\\.cache\\huggingface\\datasets\\scb_mt_enth2020\\then\\1.0.0\\6ba9d692e0ef81f29bd3ebff31ca1a92ed8338388da4f0c12f2c8c28cbc70b9a...\n",
      "Downloading: 100%|██████████| 138M/138M [05:12<00:00, 442kB/s]\n",
      "Dataset scb_mt_enth2020 downloaded and prepared to C:\\Users\\user\\.cache\\huggingface\\datasets\\scb_mt_enth2020\\then\\1.0.0\\6ba9d692e0ef81f29bd3ebff31ca1a92ed8338388da4f0c12f2c8c28cbc70b9a. Subsequent calls will reuse this data.\n",
      "Downloading and preparing dataset scb_mt_enth2020/enth (download: Unknown size, generated: Unknown size, post-processed: Unknown size, total: Unknown size) to C:\\Users\\user\\.cache\\huggingface\\datasets\\scb_mt_enth2020\\enth\\1.0.0\\6ba9d692e0ef81f29bd3ebff31ca1a92ed8338388da4f0c12f2c8c28cbc70b9a...\n",
      "Dataset scb_mt_enth2020 downloaded and prepared to C:\\Users\\user\\.cache\\huggingface\\datasets\\scb_mt_enth2020\\enth\\1.0.0\\6ba9d692e0ef81f29bd3ebff31ca1a92ed8338388da4f0c12f2c8c28cbc70b9a. Subsequent calls will reuse this data.\n",
      "Downloading: 4.34kB [00:00, 1.09MB/s]                   \n",
      "Downloading and preparing dataset thaiqa_squad/thaiqa_squad (download: Unknown size, generated: Unknown size, post-processed: Unknown size, total: Unknown size) to C:\\Users\\user\\.cache\\huggingface\\datasets\\thaiqa_squad\\thaiqa_squad\\1.0.0\\7b7e2b91d89dc82fb5f3daebad1f7760eff94f7df63eaee9c8de1dd700c090b9...\n",
      "Downloading: 100%|██████████| 10.0M/10.0M [00:10<00:00, 956kB/s]\n",
      "Dataset thaiqa_squad downloaded and prepared to C:\\Users\\user\\.cache\\huggingface\\datasets\\thaiqa_squad\\thaiqa_squad\\1.0.0\\7b7e2b91d89dc82fb5f3daebad1f7760eff94f7df63eaee9c8de1dd700c090b9. Subsequent calls will reuse this data.\n",
      "Downloading: 2.62kB [00:00, 378kB/s]                    \n",
      "Using custom data configuration default\n",
      "Downloading and preparing dataset wongnai_reviews/default (download: Unknown size, generated: Unknown size, post-processed: Unknown size, total: Unknown size) to C:\\Users\\user\\.cache\\huggingface\\datasets\\wongnai_reviews\\default\\1.0.1\\606484742fe0f96967d31a69a6f80c970828f89c08badf47d4a67737e65d1953...\n",
      "Downloading: 100%|██████████| 16.6M/16.6M [00:34<00:00, 478kB/s]\n",
      "Dataset wongnai_reviews downloaded and prepared to C:\\Users\\user\\.cache\\huggingface\\datasets\\wongnai_reviews\\default\\1.0.1\\606484742fe0f96967d31a69a6f80c970828f89c08badf47d4a67737e65d1953. Subsequent calls will reuse this data.\n",
      "Downloading: 5.01kB [00:00, 1.26MB/s]                   \n",
      "Downloading and preparing dataset wisesight_sentiment/wisesight_sentiment (download: Unknown size, generated: Unknown size, post-processed: Unknown size, total: Unknown size) to C:\\Users\\user\\.cache\\huggingface\\datasets\\wisesight_sentiment\\wisesight_sentiment\\1.0.0\\4bb1772cff1a0703d72fb9e84dff9348e80f6cdf80b0f6c0f59bcd85fc5a3537...\n",
      "Downloading: 100%|██████████| 2.10M/2.10M [00:02<00:00, 919kB/s]\n",
      "Dataset wisesight_sentiment downloaded and prepared to C:\\Users\\user\\.cache\\huggingface\\datasets\\wisesight_sentiment\\wisesight_sentiment\\1.0.0\\4bb1772cff1a0703d72fb9e84dff9348e80f6cdf80b0f6c0f59bcd85fc5a3537. Subsequent calls will reuse this data.\n"
     ]
    }
   ],
   "source": [
    "from datasets import load_dataset\n",
    "\n",
    "scb_then_ds = load_dataset('scb_mt_enth_2020','then') # download-size 135MB\n",
    "scb_enth_ds = load_dataset('scb_mt_enth_2020','enth') # download-size 135MB\n",
    "thaiqa_ds = load_dataset('thaiqa_squad')\n",
    "# thaisum_ds = load_dataset('thaisum') # download-size 650MB\n",
    "# prachatai_ds = load_dataset('prachathai67k') # download-size 254MB\n",
    "wongnai_ds = load_dataset('wongnai_reviews')\n",
    "wisesight_ds = load_dataset('wisesight_sentiment')"
   ]
  },
  {
   "cell_type": "code",
   "execution_count": 5,
   "metadata": {},
   "outputs": [
    {
     "output_type": "stream",
     "name": "stdout",
     "text": [
      "DatasetDict({\n    train: Dataset({\n        features: ['question_id', 'article_id', 'context', 'question', 'answers'],\n        num_rows: 4000\n    })\n    validation: Dataset({\n        features: ['question_id', 'article_id', 'context', 'question', 'answers'],\n        num_rows: 74\n    })\n})\nDatasetDict({\n    train: Dataset({\n        features: ['translation', 'subdataset'],\n        num_rows: 801402\n    })\n    validation: Dataset({\n        features: ['translation', 'subdataset'],\n        num_rows: 100173\n    })\n    test: Dataset({\n        features: ['translation', 'subdataset'],\n        num_rows: 100177\n    })\n})\n"
     ]
    }
   ],
   "source": [
    "print(thaiqa_ds)\n",
    "print(scb_then_ds)"
   ]
  },
  {
   "cell_type": "code",
   "execution_count": 6,
   "metadata": {},
   "outputs": [
    {
     "output_type": "execute_result",
     "data": {
      "text/plain": [
       "({'subdataset': 'aqdf_corpus',\n",
       "  'translation': {'en': 'FAR LEFT: Indonesian National Police Chief Tito Karnavian, from left, Philippine National Police Chief Ronald Dela Rosa and Royal Malaysian Police Inspector General Khalid Abu Bakar link arms before the Trilateral Security Meeting in Pasay city, southeast of Manila, Philippines, in June 2017. [THE ASSOCIATED PRESS]',\n",
       "   'th': '(ซ้ายสุด) นายติโต คาร์นาเวียน ผู้บัญชาการตํารวจแห่งชาติอินโดนีเซีย (จากซ้าย) นายโรนัลด์ เดลา โรซา ผู้บัญชาการตํารวจแห่งชาติฟิลิปปินส์ และนายคาลิด อาบู บาการ์ ผู้บัญชาการตํารวจแห่งชาติมาเลเซีย ไขว้แขนกันก่อนเริ่มการประชุมความมั่นคงไตรภาคีในเมืองปาเซย์ ซึ่งอยู่ทางตะวันออกเฉียงใต้ของกรุงมะนิลา ประเทศฟิลิปปินส์ ในเดือนมิถุนายน พ.ศ. 2560 ดิแอสโซซิเอทเต็ด เพรส'}},\n",
       " {'subdataset': 'aqdf_corpus',\n",
       "  'translation': {'en': 'FAR LEFT: Indonesian National Police Chief Tito Karnavian, from left, Philippine National Police Chief Ronald Dela Rosa and Royal Malaysian Police Inspector General Khalid Abu Bakar link arms before the Trilateral Security Meeting in Pasay city, southeast of Manila, Philippines, in June 2017. [THE ASSOCIATED PRESS]',\n",
       "   'th': '(ซ้ายสุด) นายติโต คาร์นาเวียน ผู้บัญชาการตํารวจแห่งชาติอินโดนีเซีย (จากซ้าย) นายโรนัลด์ เดลา โรซา ผู้บัญชาการตํารวจแห่งชาติฟิลิปปินส์ และนายคาลิด อาบู บาการ์ ผู้บัญชาการตํารวจแห่งชาติมาเลเซีย ไขว้แขนกันก่อนเริ่มการประชุมความมั่นคงไตรภาคีในเมืองปาเซย์ ซึ่งอยู่ทางตะวันออกเฉียงใต้ของกรุงมะนิลา ประเทศฟิลิปปินส์ ในเดือนมิถุนายน พ.ศ. 2560 ดิแอสโซซิเอทเต็ด เพรส'}})"
      ]
     },
     "metadata": {},
     "execution_count": 6
    }
   ],
   "source": [
    "scb_enth_ds['train'][0], scb_then_ds['train'][0]"
   ]
  },
  {
   "cell_type": "code",
   "execution_count": null,
   "metadata": {},
   "outputs": [],
   "source": []
  }
 ]
}